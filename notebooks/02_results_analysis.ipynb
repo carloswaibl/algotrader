{
 "cells": [
  {
   "cell_type": "code",
   "execution_count": null,
   "id": "da13cdc4",
   "metadata": {
    "vscode": {
     "languageId": "plaintext"
    }
   },
   "outputs": [],
   "source": [
    "# Import necessary libraries\n",
    "import pandas as pd\n",
    "import numpy as np\n",
    "import matplotlib.pyplot as plt\n",
    "import warnings\n",
    "\n",
    "warnings.filterwarnings('ignore')\n",
    "\n",
    "# Set plot style\n",
    "plt.style.use('seaborn-v0_8-darkgrid')\n",
    "\n",
    "print(\"Libraries imported successfully.\")"
   ]
  },
  {
   "cell_type": "code",
   "execution_count": null,
   "id": "e628c825",
   "metadata": {
    "vscode": {
     "languageId": "plaintext"
    }
   },
   "outputs": [],
   "source": [
    "# Load the mock backtest results\n",
    "# This file would be the real output from your Backtrader run\n",
    "RESULTS_FILE = \"../data/backtest_results_log.csv\"\n",
    "\n",
    "try:\n",
    "    results_df = pd.read_csv(RESULTS_FILE, index_col='date', parse_dates=True)\n",
    "    print(\"Backtest results loaded successfully!\")\n",
    "    results_df.head()\n",
    "except FileNotFoundError as e:\n",
    "    print(f\"Error loading data: {e}\")\n",
    "    print(\"Please ensure you have run the `create_mock_data.py` script first.\")"
   ]
  },
  {
   "cell_type": "code",
   "execution_count": null,
   "id": "ff9e16da",
   "metadata": {
    "vscode": {
     "languageId": "plaintext"
    }
   },
   "outputs": [],
   "source": [
    "# --- Plot the Equity Curve ---\n",
    "# This is the most fundamental backtest visualization.\n",
    "plt.figure(figsize=(14, 7))\n",
    "plt.plot(results_df['equity'], label='Portfolio Equity', color='blue')\n",
    "plt.title('Equity Curve')\n",
    "plt.xlabel('Date')\n",
    "plt.ylabel('Portfolio Value ($)')\n",
    "plt.legend()\n",
    "plt.show()"
   ]
  },
  {
   "cell_type": "code",
   "execution_count": null,
   "id": "88e5047d",
   "metadata": {
    "vscode": {
     "languageId": "plaintext"
    }
   },
   "outputs": [],
   "source": [
    "# --- Calculate Key Performance Indicators (KPIs) ---\n",
    "# We'll write functions to calculate common metrics. In a real project,\n",
    "# these would live in a dedicated module in `src/`.\n",
    "\n",
    "def calculate_sharpe_ratio(returns, periods_per_year=252):\n",
    "    \"\"\"Calculates the annualized Sharpe ratio.\"\"\"\n",
    "    # Assuming risk-free rate is 0\n",
    "    return np.sqrt(periods_per_year) * (returns.mean() / returns.std())\n",
    "\n",
    "def calculate_max_drawdown(equity_curve):\n",
    "    \"\"\"Calculates the maximum drawdown.\"\"\"\n",
    "    high_water_mark = equity_curve.cummax()\n",
    "    drawdown = (equity_curve - high_water_mark) / high_water_mark\n",
    "    return drawdown.min()"
   ]
  },
  {
   "cell_type": "code",
   "execution_count": null,
   "id": "ddaf6b5a",
   "metadata": {
    "vscode": {
     "languageId": "plaintext"
    }
   },
   "outputs": [],
   "source": [
    "# Calculate and print the KPIs\n",
    "returns = results_df['equity'].pct_change().dropna()\n",
    "\n",
    "total_return = (results_df['equity'][-1] / results_df['equity'][0]) - 1\n",
    "sharpe_ratio = calculate_sharpe_ratio(returns)\n",
    "max_dd = calculate_max_drawdown(results_df['equity'])\n",
    "cagr = ((results_df['equity'][-1] / results_df['equity'][0]) ** (1 / (len(results_df)/252))) - 1\n",
    "\n",
    "\n",
    "print(\"--- Backtest Performance Metrics ---\")\n",
    "print(f\"Total Return: {total_return:.2%}\")\n",
    "print(f\"Compound Annual Growth Rate (CAGR): {cagr:.2%}\")\n",
    "print(f\"Annualized Sharpe Ratio: {sharpe_ratio:.2f}\")\n",
    "print(f\"Maximum Drawdown: {max_dd:.2%}\")"
   ]
  },
  {
   "cell_type": "code",
   "execution_count": null,
   "id": "cd11b106",
   "metadata": {
    "vscode": {
     "languageId": "plaintext"
    }
   },
   "outputs": [],
   "source": [
    "# --- Plot the Drawdown Curve ---\n",
    "# Visualizing drawdowns helps understand the risk and pain points of a strategy.\n",
    "high_water_mark = results_df['equity'].cummax()\n",
    "drawdown = (results_df['equity'] - high_water_mark) / high_water_mark\n",
    "\n",
    "plt.figure(figsize=(14, 7))\n",
    "plt.fill_between(drawdown.index, drawdown * 100, 0, color='red', alpha=0.3)\n",
    "plt.plot(drawdown.index, drawdown * 100, color='red', lw=1)\n",
    "plt.title('Drawdown Curve')\n",
    "plt.xlabel('Date')\n",
    "plt.ylabel('Drawdown (%)')\n",
    "plt.show()"
   ]
  }
 ],
 "metadata": {
  "language_info": {
   "name": "python"
  }
 },
 "nbformat": 4,
 "nbformat_minor": 5
}
