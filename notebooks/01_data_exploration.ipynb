{
 "cells": [
  {
   "cell_type": "code",
   "execution_count": 1,
   "id": "26aabef6",
   "metadata": {
    "vscode": {
     "languageId": "plaintext"
    }
   },
   "outputs": [
    {
     "name": "stdout",
     "output_type": "stream",
     "text": [
      "Libraries imported successfully.\n"
     ]
    }
   ],
   "source": [
    "# Import necessary libraries\n",
    "import pandas as pd\n",
    "import numpy as np\n",
    "import matplotlib.pyplot as plt\n",
    "import plotly.express as px # A great library for interactive plots\n",
    "\n",
    "# Set some display options for pandas\n",
    "pd.set_option('display.max_rows', 100)\n",
    "\n",
    "print(\"Libraries imported successfully.\")"
   ]
  },
  {
   "cell_type": "code",
   "execution_count": 2,
   "id": "792ff043",
   "metadata": {
    "vscode": {
     "languageId": "plaintext"
    }
   },
   "outputs": [
    {
     "name": "stdout",
     "output_type": "stream",
     "text": [
      "Data loaded successfully!\n"
     ]
    }
   ],
   "source": [
    "# Define file paths\n",
    "# We are inside the /app/notebooks directory in the container\n",
    "DATA_DIR = \"../data/parquet/\"\n",
    "SPX_FILE = DATA_DIR + \"NDX_20240510.parquet\"\n",
    "\n",
    "# Load the data using pandas\n",
    "try:\n",
    "    spx_df = pd.read_parquet(SPX_FILE)\n",
    "    print(\"Data loaded successfully!\")\n",
    "except FileNotFoundError as e:\n",
    "    print(f\"Error loading data: {e}\")\n",
    "    print(\"Please ensure you have run the `create_mock_data.py` script first.\")"
   ]
  },
  {
   "cell_type": "code",
   "execution_count": 3,
   "id": "0c1043e5",
   "metadata": {
    "vscode": {
     "languageId": "plaintext"
    }
   },
   "outputs": [
    {
     "name": "stdout",
     "output_type": "stream",
     "text": [
      "--- SPX Data ---\n",
      "Shape of the data (rows, columns): (391, 8)\n",
      "\n",
      "First 5 rows:\n"
     ]
    },
    {
     "data": {
      "text/html": [
       "<div>\n",
       "<style scoped>\n",
       "    .dataframe tbody tr th:only-of-type {\n",
       "        vertical-align: middle;\n",
       "    }\n",
       "\n",
       "    .dataframe tbody tr th {\n",
       "        vertical-align: top;\n",
       "    }\n",
       "\n",
       "    .dataframe thead th {\n",
       "        text-align: right;\n",
       "    }\n",
       "</style>\n",
       "<table border=\"1\" class=\"dataframe\">\n",
       "  <thead>\n",
       "    <tr style=\"text-align: right;\">\n",
       "      <th></th>\n",
       "      <th>open</th>\n",
       "      <th>high</th>\n",
       "      <th>low</th>\n",
       "      <th>close</th>\n",
       "      <th>volume</th>\n",
       "      <th>vwap</th>\n",
       "      <th>transactions</th>\n",
       "      <th>otc</th>\n",
       "    </tr>\n",
       "    <tr>\n",
       "      <th>timestamp</th>\n",
       "      <th></th>\n",
       "      <th></th>\n",
       "      <th></th>\n",
       "      <th></th>\n",
       "      <th></th>\n",
       "      <th></th>\n",
       "      <th></th>\n",
       "      <th></th>\n",
       "    </tr>\n",
       "  </thead>\n",
       "  <tbody>\n",
       "    <tr>\n",
       "      <th>2024-05-10 13:30:00</th>\n",
       "      <td>18171.145506</td>\n",
       "      <td>18173.302315</td>\n",
       "      <td>18162.127835</td>\n",
       "      <td>18165.168581</td>\n",
       "      <td>None</td>\n",
       "      <td>None</td>\n",
       "      <td>None</td>\n",
       "      <td>None</td>\n",
       "    </tr>\n",
       "    <tr>\n",
       "      <th>2024-05-10 13:31:00</th>\n",
       "      <td>18166.212296</td>\n",
       "      <td>18187.013606</td>\n",
       "      <td>18162.688491</td>\n",
       "      <td>18184.695696</td>\n",
       "      <td>None</td>\n",
       "      <td>None</td>\n",
       "      <td>None</td>\n",
       "      <td>None</td>\n",
       "    </tr>\n",
       "    <tr>\n",
       "      <th>2024-05-10 13:32:00</th>\n",
       "      <td>18184.399708</td>\n",
       "      <td>18196.538170</td>\n",
       "      <td>18184.399708</td>\n",
       "      <td>18191.364139</td>\n",
       "      <td>None</td>\n",
       "      <td>None</td>\n",
       "      <td>None</td>\n",
       "      <td>None</td>\n",
       "    </tr>\n",
       "    <tr>\n",
       "      <th>2024-05-10 13:33:00</th>\n",
       "      <td>18191.368582</td>\n",
       "      <td>18200.273139</td>\n",
       "      <td>18191.368582</td>\n",
       "      <td>18198.292608</td>\n",
       "      <td>None</td>\n",
       "      <td>None</td>\n",
       "      <td>None</td>\n",
       "      <td>None</td>\n",
       "    </tr>\n",
       "    <tr>\n",
       "      <th>2024-05-10 13:34:00</th>\n",
       "      <td>18198.840346</td>\n",
       "      <td>18213.578423</td>\n",
       "      <td>18198.840346</td>\n",
       "      <td>18213.578423</td>\n",
       "      <td>None</td>\n",
       "      <td>None</td>\n",
       "      <td>None</td>\n",
       "      <td>None</td>\n",
       "    </tr>\n",
       "  </tbody>\n",
       "</table>\n",
       "</div>"
      ],
      "text/plain": [
       "                             open          high           low         close  \\\n",
       "timestamp                                                                     \n",
       "2024-05-10 13:30:00  18171.145506  18173.302315  18162.127835  18165.168581   \n",
       "2024-05-10 13:31:00  18166.212296  18187.013606  18162.688491  18184.695696   \n",
       "2024-05-10 13:32:00  18184.399708  18196.538170  18184.399708  18191.364139   \n",
       "2024-05-10 13:33:00  18191.368582  18200.273139  18191.368582  18198.292608   \n",
       "2024-05-10 13:34:00  18198.840346  18213.578423  18198.840346  18213.578423   \n",
       "\n",
       "                    volume  vwap transactions   otc  \n",
       "timestamp                                            \n",
       "2024-05-10 13:30:00   None  None         None  None  \n",
       "2024-05-10 13:31:00   None  None         None  None  \n",
       "2024-05-10 13:32:00   None  None         None  None  \n",
       "2024-05-10 13:33:00   None  None         None  None  \n",
       "2024-05-10 13:34:00   None  None         None  None  "
      ]
     },
     "execution_count": 3,
     "metadata": {},
     "output_type": "execute_result"
    }
   ],
   "source": [
    "# --- Explore the SPX Data ---\n",
    "print(\"--- SPX Data ---\")\n",
    "print(\"Shape of the data (rows, columns):\", spx_df.shape)\n",
    "print(\"\\nFirst 5 rows:\")\n",
    "spx_df.head()"
   ]
  },
  {
   "cell_type": "code",
   "execution_count": 4,
   "id": "2e2732a6",
   "metadata": {
    "vscode": {
     "languageId": "plaintext"
    }
   },
   "outputs": [
    {
     "name": "stdout",
     "output_type": "stream",
     "text": [
      "\n",
      "SPX Data Info:\n",
      "<class 'pandas.core.frame.DataFrame'>\n",
      "DatetimeIndex: 391 entries, 2024-05-10 13:30:00 to 2024-05-10 20:00:00\n",
      "Data columns (total 8 columns):\n",
      " #   Column        Non-Null Count  Dtype  \n",
      "---  ------        --------------  -----  \n",
      " 0   open          391 non-null    float64\n",
      " 1   high          391 non-null    float64\n",
      " 2   low           391 non-null    float64\n",
      " 3   close         391 non-null    float64\n",
      " 4   volume        0 non-null      object \n",
      " 5   vwap          0 non-null      object \n",
      " 6   transactions  0 non-null      object \n",
      " 7   otc           0 non-null      object \n",
      "dtypes: float64(4), object(4)\n",
      "memory usage: 27.5+ KB\n",
      "\n",
      "\n",
      "SPX Descriptive Statistics:\n"
     ]
    },
    {
     "data": {
      "text/html": [
       "<div>\n",
       "<style scoped>\n",
       "    .dataframe tbody tr th:only-of-type {\n",
       "        vertical-align: middle;\n",
       "    }\n",
       "\n",
       "    .dataframe tbody tr th {\n",
       "        vertical-align: top;\n",
       "    }\n",
       "\n",
       "    .dataframe thead th {\n",
       "        text-align: right;\n",
       "    }\n",
       "</style>\n",
       "<table border=\"1\" class=\"dataframe\">\n",
       "  <thead>\n",
       "    <tr style=\"text-align: right;\">\n",
       "      <th></th>\n",
       "      <th>open</th>\n",
       "      <th>high</th>\n",
       "      <th>low</th>\n",
       "      <th>close</th>\n",
       "    </tr>\n",
       "  </thead>\n",
       "  <tbody>\n",
       "    <tr>\n",
       "      <th>count</th>\n",
       "      <td>391.000000</td>\n",
       "      <td>391.000000</td>\n",
       "      <td>391.000000</td>\n",
       "      <td>391.000000</td>\n",
       "    </tr>\n",
       "    <tr>\n",
       "      <th>mean</th>\n",
       "      <td>18150.413902</td>\n",
       "      <td>18152.786205</td>\n",
       "      <td>18148.033571</td>\n",
       "      <td>18150.376485</td>\n",
       "    </tr>\n",
       "    <tr>\n",
       "      <th>std</th>\n",
       "      <td>26.840497</td>\n",
       "      <td>27.283121</td>\n",
       "      <td>26.406619</td>\n",
       "      <td>26.811219</td>\n",
       "    </tr>\n",
       "    <tr>\n",
       "      <th>min</th>\n",
       "      <td>18102.682158</td>\n",
       "      <td>18108.431722</td>\n",
       "      <td>18099.725389</td>\n",
       "      <td>18102.761964</td>\n",
       "    </tr>\n",
       "    <tr>\n",
       "      <th>25%</th>\n",
       "      <td>18132.960633</td>\n",
       "      <td>18134.546093</td>\n",
       "      <td>18131.069947</td>\n",
       "      <td>18132.875470</td>\n",
       "    </tr>\n",
       "    <tr>\n",
       "      <th>50%</th>\n",
       "      <td>18145.122489</td>\n",
       "      <td>18147.438355</td>\n",
       "      <td>18141.983378</td>\n",
       "      <td>18145.222492</td>\n",
       "    </tr>\n",
       "    <tr>\n",
       "      <th>75%</th>\n",
       "      <td>18157.634067</td>\n",
       "      <td>18159.431686</td>\n",
       "      <td>18155.762070</td>\n",
       "      <td>18157.697698</td>\n",
       "    </tr>\n",
       "    <tr>\n",
       "      <th>max</th>\n",
       "      <td>18244.260204</td>\n",
       "      <td>18247.608639</td>\n",
       "      <td>18240.127318</td>\n",
       "      <td>18244.161004</td>\n",
       "    </tr>\n",
       "  </tbody>\n",
       "</table>\n",
       "</div>"
      ],
      "text/plain": [
       "               open          high           low         close\n",
       "count    391.000000    391.000000    391.000000    391.000000\n",
       "mean   18150.413902  18152.786205  18148.033571  18150.376485\n",
       "std       26.840497     27.283121     26.406619     26.811219\n",
       "min    18102.682158  18108.431722  18099.725389  18102.761964\n",
       "25%    18132.960633  18134.546093  18131.069947  18132.875470\n",
       "50%    18145.122489  18147.438355  18141.983378  18145.222492\n",
       "75%    18157.634067  18159.431686  18155.762070  18157.697698\n",
       "max    18244.260204  18247.608639  18240.127318  18244.161004"
      ]
     },
     "execution_count": 4,
     "metadata": {},
     "output_type": "execute_result"
    }
   ],
   "source": [
    "# Basic info and statistics for SPX data\n",
    "print(\"\\nSPX Data Info:\")\n",
    "spx_df.info()\n",
    "\n",
    "print(\"\\n\\nSPX Descriptive Statistics:\")\n",
    "spx_df.describe()\n"
   ]
  },
  {
   "cell_type": "code",
   "execution_count": 5,
   "id": "4b07ed70",
   "metadata": {
    "vscode": {
     "languageId": "plaintext"
    }
   },
   "outputs": [
    {
     "data": {
      "application/vnd.plotly.v1+json": {
       "config": {
        "plotlyServerURL": "https://plot.ly"
       },
       "data": [
        {
         "hovertemplate": "Time=%{x}<br>Price=%{y}<extra></extra>",
         "legendgroup": "",
         "line": {
          "color": "#636efa",
          "dash": "solid"
         },
         "marker": {
          "symbol": "circle"
         },
         "mode": "lines",
         "name": "",
         "orientation": "v",
         "showlegend": false,
         "type": "scatter",
         "x": [
          "2024-05-10T13:30:00.000000000",
          "2024-05-10T13:31:00.000000000",
          "2024-05-10T13:32:00.000000000",
          "2024-05-10T13:33:00.000000000",
          "2024-05-10T13:34:00.000000000",
          "2024-05-10T13:35:00.000000000",
          "2024-05-10T13:36:00.000000000",
          "2024-05-10T13:37:00.000000000",
          "2024-05-10T13:38:00.000000000",
          "2024-05-10T13:39:00.000000000",
          "2024-05-10T13:40:00.000000000",
          "2024-05-10T13:41:00.000000000",
          "2024-05-10T13:42:00.000000000",
          "2024-05-10T13:43:00.000000000",
          "2024-05-10T13:44:00.000000000",
          "2024-05-10T13:45:00.000000000",
          "2024-05-10T13:46:00.000000000",
          "2024-05-10T13:47:00.000000000",
          "2024-05-10T13:48:00.000000000",
          "2024-05-10T13:49:00.000000000",
          "2024-05-10T13:50:00.000000000",
          "2024-05-10T13:51:00.000000000",
          "2024-05-10T13:52:00.000000000",
          "2024-05-10T13:53:00.000000000",
          "2024-05-10T13:54:00.000000000",
          "2024-05-10T13:55:00.000000000",
          "2024-05-10T13:56:00.000000000",
          "2024-05-10T13:57:00.000000000",
          "2024-05-10T13:58:00.000000000",
          "2024-05-10T13:59:00.000000000",
          "2024-05-10T14:00:00.000000000",
          "2024-05-10T14:01:00.000000000",
          "2024-05-10T14:02:00.000000000",
          "2024-05-10T14:03:00.000000000",
          "2024-05-10T14:04:00.000000000",
          "2024-05-10T14:05:00.000000000",
          "2024-05-10T14:06:00.000000000",
          "2024-05-10T14:07:00.000000000",
          "2024-05-10T14:08:00.000000000",
          "2024-05-10T14:09:00.000000000",
          "2024-05-10T14:10:00.000000000",
          "2024-05-10T14:11:00.000000000",
          "2024-05-10T14:12:00.000000000",
          "2024-05-10T14:13:00.000000000",
          "2024-05-10T14:14:00.000000000",
          "2024-05-10T14:15:00.000000000",
          "2024-05-10T14:16:00.000000000",
          "2024-05-10T14:17:00.000000000",
          "2024-05-10T14:18:00.000000000",
          "2024-05-10T14:19:00.000000000",
          "2024-05-10T14:20:00.000000000",
          "2024-05-10T14:21:00.000000000",
          "2024-05-10T14:22:00.000000000",
          "2024-05-10T14:23:00.000000000",
          "2024-05-10T14:24:00.000000000",
          "2024-05-10T14:25:00.000000000",
          "2024-05-10T14:26:00.000000000",
          "2024-05-10T14:27:00.000000000",
          "2024-05-10T14:28:00.000000000",
          "2024-05-10T14:29:00.000000000",
          "2024-05-10T14:30:00.000000000",
          "2024-05-10T14:31:00.000000000",
          "2024-05-10T14:32:00.000000000",
          "2024-05-10T14:33:00.000000000",
          "2024-05-10T14:34:00.000000000",
          "2024-05-10T14:35:00.000000000",
          "2024-05-10T14:36:00.000000000",
          "2024-05-10T14:37:00.000000000",
          "2024-05-10T14:38:00.000000000",
          "2024-05-10T14:39:00.000000000",
          "2024-05-10T14:40:00.000000000",
          "2024-05-10T14:41:00.000000000",
          "2024-05-10T14:42:00.000000000",
          "2024-05-10T14:43:00.000000000",
          "2024-05-10T14:44:00.000000000",
          "2024-05-10T14:45:00.000000000",
          "2024-05-10T14:46:00.000000000",
          "2024-05-10T14:47:00.000000000",
          "2024-05-10T14:48:00.000000000",
          "2024-05-10T14:49:00.000000000",
          "2024-05-10T14:50:00.000000000",
          "2024-05-10T14:51:00.000000000",
          "2024-05-10T14:52:00.000000000",
          "2024-05-10T14:53:00.000000000",
          "2024-05-10T14:54:00.000000000",
          "2024-05-10T14:55:00.000000000",
          "2024-05-10T14:56:00.000000000",
          "2024-05-10T14:57:00.000000000",
          "2024-05-10T14:58:00.000000000",
          "2024-05-10T14:59:00.000000000",
          "2024-05-10T15:00:00.000000000",
          "2024-05-10T15:01:00.000000000",
          "2024-05-10T15:02:00.000000000",
          "2024-05-10T15:03:00.000000000",
          "2024-05-10T15:04:00.000000000",
          "2024-05-10T15:05:00.000000000",
          "2024-05-10T15:06:00.000000000",
          "2024-05-10T15:07:00.000000000",
          "2024-05-10T15:08:00.000000000",
          "2024-05-10T15:09:00.000000000",
          "2024-05-10T15:10:00.000000000",
          "2024-05-10T15:11:00.000000000",
          "2024-05-10T15:12:00.000000000",
          "2024-05-10T15:13:00.000000000",
          "2024-05-10T15:14:00.000000000",
          "2024-05-10T15:15:00.000000000",
          "2024-05-10T15:16:00.000000000",
          "2024-05-10T15:17:00.000000000",
          "2024-05-10T15:18:00.000000000",
          "2024-05-10T15:19:00.000000000",
          "2024-05-10T15:20:00.000000000",
          "2024-05-10T15:21:00.000000000",
          "2024-05-10T15:22:00.000000000",
          "2024-05-10T15:23:00.000000000",
          "2024-05-10T15:24:00.000000000",
          "2024-05-10T15:25:00.000000000",
          "2024-05-10T15:26:00.000000000",
          "2024-05-10T15:27:00.000000000",
          "2024-05-10T15:28:00.000000000",
          "2024-05-10T15:29:00.000000000",
          "2024-05-10T15:30:00.000000000",
          "2024-05-10T15:31:00.000000000",
          "2024-05-10T15:32:00.000000000",
          "2024-05-10T15:33:00.000000000",
          "2024-05-10T15:34:00.000000000",
          "2024-05-10T15:35:00.000000000",
          "2024-05-10T15:36:00.000000000",
          "2024-05-10T15:37:00.000000000",
          "2024-05-10T15:38:00.000000000",
          "2024-05-10T15:39:00.000000000",
          "2024-05-10T15:40:00.000000000",
          "2024-05-10T15:41:00.000000000",
          "2024-05-10T15:42:00.000000000",
          "2024-05-10T15:43:00.000000000",
          "2024-05-10T15:44:00.000000000",
          "2024-05-10T15:45:00.000000000",
          "2024-05-10T15:46:00.000000000",
          "2024-05-10T15:47:00.000000000",
          "2024-05-10T15:48:00.000000000",
          "2024-05-10T15:49:00.000000000",
          "2024-05-10T15:50:00.000000000",
          "2024-05-10T15:51:00.000000000",
          "2024-05-10T15:52:00.000000000",
          "2024-05-10T15:53:00.000000000",
          "2024-05-10T15:54:00.000000000",
          "2024-05-10T15:55:00.000000000",
          "2024-05-10T15:56:00.000000000",
          "2024-05-10T15:57:00.000000000",
          "2024-05-10T15:58:00.000000000",
          "2024-05-10T15:59:00.000000000",
          "2024-05-10T16:00:00.000000000",
          "2024-05-10T16:01:00.000000000",
          "2024-05-10T16:02:00.000000000",
          "2024-05-10T16:03:00.000000000",
          "2024-05-10T16:04:00.000000000",
          "2024-05-10T16:05:00.000000000",
          "2024-05-10T16:06:00.000000000",
          "2024-05-10T16:07:00.000000000",
          "2024-05-10T16:08:00.000000000",
          "2024-05-10T16:09:00.000000000",
          "2024-05-10T16:10:00.000000000",
          "2024-05-10T16:11:00.000000000",
          "2024-05-10T16:12:00.000000000",
          "2024-05-10T16:13:00.000000000",
          "2024-05-10T16:14:00.000000000",
          "2024-05-10T16:15:00.000000000",
          "2024-05-10T16:16:00.000000000",
          "2024-05-10T16:17:00.000000000",
          "2024-05-10T16:18:00.000000000",
          "2024-05-10T16:19:00.000000000",
          "2024-05-10T16:20:00.000000000",
          "2024-05-10T16:21:00.000000000",
          "2024-05-10T16:22:00.000000000",
          "2024-05-10T16:23:00.000000000",
          "2024-05-10T16:24:00.000000000",
          "2024-05-10T16:25:00.000000000",
          "2024-05-10T16:26:00.000000000",
          "2024-05-10T16:27:00.000000000",
          "2024-05-10T16:28:00.000000000",
          "2024-05-10T16:29:00.000000000",
          "2024-05-10T16:30:00.000000000",
          "2024-05-10T16:31:00.000000000",
          "2024-05-10T16:32:00.000000000",
          "2024-05-10T16:33:00.000000000",
          "2024-05-10T16:34:00.000000000",
          "2024-05-10T16:35:00.000000000",
          "2024-05-10T16:36:00.000000000",
          "2024-05-10T16:37:00.000000000",
          "2024-05-10T16:38:00.000000000",
          "2024-05-10T16:39:00.000000000",
          "2024-05-10T16:40:00.000000000",
          "2024-05-10T16:41:00.000000000",
          "2024-05-10T16:42:00.000000000",
          "2024-05-10T16:43:00.000000000",
          "2024-05-10T16:44:00.000000000",
          "2024-05-10T16:45:00.000000000",
          "2024-05-10T16:46:00.000000000",
          "2024-05-10T16:47:00.000000000",
          "2024-05-10T16:48:00.000000000",
          "2024-05-10T16:49:00.000000000",
          "2024-05-10T16:50:00.000000000",
          "2024-05-10T16:51:00.000000000",
          "2024-05-10T16:52:00.000000000",
          "2024-05-10T16:53:00.000000000",
          "2024-05-10T16:54:00.000000000",
          "2024-05-10T16:55:00.000000000",
          "2024-05-10T16:56:00.000000000",
          "2024-05-10T16:57:00.000000000",
          "2024-05-10T16:58:00.000000000",
          "2024-05-10T16:59:00.000000000",
          "2024-05-10T17:00:00.000000000",
          "2024-05-10T17:01:00.000000000",
          "2024-05-10T17:02:00.000000000",
          "2024-05-10T17:03:00.000000000",
          "2024-05-10T17:04:00.000000000",
          "2024-05-10T17:05:00.000000000",
          "2024-05-10T17:06:00.000000000",
          "2024-05-10T17:07:00.000000000",
          "2024-05-10T17:08:00.000000000",
          "2024-05-10T17:09:00.000000000",
          "2024-05-10T17:10:00.000000000",
          "2024-05-10T17:11:00.000000000",
          "2024-05-10T17:12:00.000000000",
          "2024-05-10T17:13:00.000000000",
          "2024-05-10T17:14:00.000000000",
          "2024-05-10T17:15:00.000000000",
          "2024-05-10T17:16:00.000000000",
          "2024-05-10T17:17:00.000000000",
          "2024-05-10T17:18:00.000000000",
          "2024-05-10T17:19:00.000000000",
          "2024-05-10T17:20:00.000000000",
          "2024-05-10T17:21:00.000000000",
          "2024-05-10T17:22:00.000000000",
          "2024-05-10T17:23:00.000000000",
          "2024-05-10T17:24:00.000000000",
          "2024-05-10T17:25:00.000000000",
          "2024-05-10T17:26:00.000000000",
          "2024-05-10T17:27:00.000000000",
          "2024-05-10T17:28:00.000000000",
          "2024-05-10T17:29:00.000000000",
          "2024-05-10T17:30:00.000000000",
          "2024-05-10T17:31:00.000000000",
          "2024-05-10T17:32:00.000000000",
          "2024-05-10T17:33:00.000000000",
          "2024-05-10T17:34:00.000000000",
          "2024-05-10T17:35:00.000000000",
          "2024-05-10T17:36:00.000000000",
          "2024-05-10T17:37:00.000000000",
          "2024-05-10T17:38:00.000000000",
          "2024-05-10T17:39:00.000000000",
          "2024-05-10T17:40:00.000000000",
          "2024-05-10T17:41:00.000000000",
          "2024-05-10T17:42:00.000000000",
          "2024-05-10T17:43:00.000000000",
          "2024-05-10T17:44:00.000000000",
          "2024-05-10T17:45:00.000000000",
          "2024-05-10T17:46:00.000000000",
          "2024-05-10T17:47:00.000000000",
          "2024-05-10T17:48:00.000000000",
          "2024-05-10T17:49:00.000000000",
          "2024-05-10T17:50:00.000000000",
          "2024-05-10T17:51:00.000000000",
          "2024-05-10T17:52:00.000000000",
          "2024-05-10T17:53:00.000000000",
          "2024-05-10T17:54:00.000000000",
          "2024-05-10T17:55:00.000000000",
          "2024-05-10T17:56:00.000000000",
          "2024-05-10T17:57:00.000000000",
          "2024-05-10T17:58:00.000000000",
          "2024-05-10T17:59:00.000000000",
          "2024-05-10T18:00:00.000000000",
          "2024-05-10T18:01:00.000000000",
          "2024-05-10T18:02:00.000000000",
          "2024-05-10T18:03:00.000000000",
          "2024-05-10T18:04:00.000000000",
          "2024-05-10T18:05:00.000000000",
          "2024-05-10T18:06:00.000000000",
          "2024-05-10T18:07:00.000000000",
          "2024-05-10T18:08:00.000000000",
          "2024-05-10T18:09:00.000000000",
          "2024-05-10T18:10:00.000000000",
          "2024-05-10T18:11:00.000000000",
          "2024-05-10T18:12:00.000000000",
          "2024-05-10T18:13:00.000000000",
          "2024-05-10T18:14:00.000000000",
          "2024-05-10T18:15:00.000000000",
          "2024-05-10T18:16:00.000000000",
          "2024-05-10T18:17:00.000000000",
          "2024-05-10T18:18:00.000000000",
          "2024-05-10T18:19:00.000000000",
          "2024-05-10T18:20:00.000000000",
          "2024-05-10T18:21:00.000000000",
          "2024-05-10T18:22:00.000000000",
          "2024-05-10T18:23:00.000000000",
          "2024-05-10T18:24:00.000000000",
          "2024-05-10T18:25:00.000000000",
          "2024-05-10T18:26:00.000000000",
          "2024-05-10T18:27:00.000000000",
          "2024-05-10T18:28:00.000000000",
          "2024-05-10T18:29:00.000000000",
          "2024-05-10T18:30:00.000000000",
          "2024-05-10T18:31:00.000000000",
          "2024-05-10T18:32:00.000000000",
          "2024-05-10T18:33:00.000000000",
          "2024-05-10T18:34:00.000000000",
          "2024-05-10T18:35:00.000000000",
          "2024-05-10T18:36:00.000000000",
          "2024-05-10T18:37:00.000000000",
          "2024-05-10T18:38:00.000000000",
          "2024-05-10T18:39:00.000000000",
          "2024-05-10T18:40:00.000000000",
          "2024-05-10T18:41:00.000000000",
          "2024-05-10T18:42:00.000000000",
          "2024-05-10T18:43:00.000000000",
          "2024-05-10T18:44:00.000000000",
          "2024-05-10T18:45:00.000000000",
          "2024-05-10T18:46:00.000000000",
          "2024-05-10T18:47:00.000000000",
          "2024-05-10T18:48:00.000000000",
          "2024-05-10T18:49:00.000000000",
          "2024-05-10T18:50:00.000000000",
          "2024-05-10T18:51:00.000000000",
          "2024-05-10T18:52:00.000000000",
          "2024-05-10T18:53:00.000000000",
          "2024-05-10T18:54:00.000000000",
          "2024-05-10T18:55:00.000000000",
          "2024-05-10T18:56:00.000000000",
          "2024-05-10T18:57:00.000000000",
          "2024-05-10T18:58:00.000000000",
          "2024-05-10T18:59:00.000000000",
          "2024-05-10T19:00:00.000000000",
          "2024-05-10T19:01:00.000000000",
          "2024-05-10T19:02:00.000000000",
          "2024-05-10T19:03:00.000000000",
          "2024-05-10T19:04:00.000000000",
          "2024-05-10T19:05:00.000000000",
          "2024-05-10T19:06:00.000000000",
          "2024-05-10T19:07:00.000000000",
          "2024-05-10T19:08:00.000000000",
          "2024-05-10T19:09:00.000000000",
          "2024-05-10T19:10:00.000000000",
          "2024-05-10T19:11:00.000000000",
          "2024-05-10T19:12:00.000000000",
          "2024-05-10T19:13:00.000000000",
          "2024-05-10T19:14:00.000000000",
          "2024-05-10T19:15:00.000000000",
          "2024-05-10T19:16:00.000000000",
          "2024-05-10T19:17:00.000000000",
          "2024-05-10T19:18:00.000000000",
          "2024-05-10T19:19:00.000000000",
          "2024-05-10T19:20:00.000000000",
          "2024-05-10T19:21:00.000000000",
          "2024-05-10T19:22:00.000000000",
          "2024-05-10T19:23:00.000000000",
          "2024-05-10T19:24:00.000000000",
          "2024-05-10T19:25:00.000000000",
          "2024-05-10T19:26:00.000000000",
          "2024-05-10T19:27:00.000000000",
          "2024-05-10T19:28:00.000000000",
          "2024-05-10T19:29:00.000000000",
          "2024-05-10T19:30:00.000000000",
          "2024-05-10T19:31:00.000000000",
          "2024-05-10T19:32:00.000000000",
          "2024-05-10T19:33:00.000000000",
          "2024-05-10T19:34:00.000000000",
          "2024-05-10T19:35:00.000000000",
          "2024-05-10T19:36:00.000000000",
          "2024-05-10T19:37:00.000000000",
          "2024-05-10T19:38:00.000000000",
          "2024-05-10T19:39:00.000000000",
          "2024-05-10T19:40:00.000000000",
          "2024-05-10T19:41:00.000000000",
          "2024-05-10T19:42:00.000000000",
          "2024-05-10T19:43:00.000000000",
          "2024-05-10T19:44:00.000000000",
          "2024-05-10T19:45:00.000000000",
          "2024-05-10T19:46:00.000000000",
          "2024-05-10T19:47:00.000000000",
          "2024-05-10T19:48:00.000000000",
          "2024-05-10T19:49:00.000000000",
          "2024-05-10T19:50:00.000000000",
          "2024-05-10T19:51:00.000000000",
          "2024-05-10T19:52:00.000000000",
          "2024-05-10T19:53:00.000000000",
          "2024-05-10T19:54:00.000000000",
          "2024-05-10T19:55:00.000000000",
          "2024-05-10T19:56:00.000000000",
          "2024-05-10T19:57:00.000000000",
          "2024-05-10T19:58:00.000000000",
          "2024-05-10T19:59:00.000000000",
          "2024-05-10T20:00:00.000000000"
         ],
         "xaxis": "x",
         "y": {
          "bdata": "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",
          "dtype": "f8"
         },
         "yaxis": "y"
        }
       ],
       "layout": {
        "legend": {
         "tracegroupgap": 0
        },
        "template": {
         "data": {
          "bar": [
           {
            "error_x": {
             "color": "#2a3f5f"
            },
            "error_y": {
             "color": "#2a3f5f"
            },
            "marker": {
             "line": {
              "color": "#E5ECF6",
              "width": 0.5
             },
             "pattern": {
              "fillmode": "overlay",
              "size": 10,
              "solidity": 0.2
             }
            },
            "type": "bar"
           }
          ],
          "barpolar": [
           {
            "marker": {
             "line": {
              "color": "#E5ECF6",
              "width": 0.5
             },
             "pattern": {
              "fillmode": "overlay",
              "size": 10,
              "solidity": 0.2
             }
            },
            "type": "barpolar"
           }
          ],
          "carpet": [
           {
            "aaxis": {
             "endlinecolor": "#2a3f5f",
             "gridcolor": "white",
             "linecolor": "white",
             "minorgridcolor": "white",
             "startlinecolor": "#2a3f5f"
            },
            "baxis": {
             "endlinecolor": "#2a3f5f",
             "gridcolor": "white",
             "linecolor": "white",
             "minorgridcolor": "white",
             "startlinecolor": "#2a3f5f"
            },
            "type": "carpet"
           }
          ],
          "choropleth": [
           {
            "colorbar": {
             "outlinewidth": 0,
             "ticks": ""
            },
            "type": "choropleth"
           }
          ],
          "contour": [
           {
            "colorbar": {
             "outlinewidth": 0,
             "ticks": ""
            },
            "colorscale": [
             [
              0,
              "#0d0887"
             ],
             [
              0.1111111111111111,
              "#46039f"
             ],
             [
              0.2222222222222222,
              "#7201a8"
             ],
             [
              0.3333333333333333,
              "#9c179e"
             ],
             [
              0.4444444444444444,
              "#bd3786"
             ],
             [
              0.5555555555555556,
              "#d8576b"
             ],
             [
              0.6666666666666666,
              "#ed7953"
             ],
             [
              0.7777777777777778,
              "#fb9f3a"
             ],
             [
              0.8888888888888888,
              "#fdca26"
             ],
             [
              1,
              "#f0f921"
             ]
            ],
            "type": "contour"
           }
          ],
          "contourcarpet": [
           {
            "colorbar": {
             "outlinewidth": 0,
             "ticks": ""
            },
            "type": "contourcarpet"
           }
          ],
          "heatmap": [
           {
            "colorbar": {
             "outlinewidth": 0,
             "ticks": ""
            },
            "colorscale": [
             [
              0,
              "#0d0887"
             ],
             [
              0.1111111111111111,
              "#46039f"
             ],
             [
              0.2222222222222222,
              "#7201a8"
             ],
             [
              0.3333333333333333,
              "#9c179e"
             ],
             [
              0.4444444444444444,
              "#bd3786"
             ],
             [
              0.5555555555555556,
              "#d8576b"
             ],
             [
              0.6666666666666666,
              "#ed7953"
             ],
             [
              0.7777777777777778,
              "#fb9f3a"
             ],
             [
              0.8888888888888888,
              "#fdca26"
             ],
             [
              1,
              "#f0f921"
             ]
            ],
            "type": "heatmap"
           }
          ],
          "histogram": [
           {
            "marker": {
             "pattern": {
              "fillmode": "overlay",
              "size": 10,
              "solidity": 0.2
             }
            },
            "type": "histogram"
           }
          ],
          "histogram2d": [
           {
            "colorbar": {
             "outlinewidth": 0,
             "ticks": ""
            },
            "colorscale": [
             [
              0,
              "#0d0887"
             ],
             [
              0.1111111111111111,
              "#46039f"
             ],
             [
              0.2222222222222222,
              "#7201a8"
             ],
             [
              0.3333333333333333,
              "#9c179e"
             ],
             [
              0.4444444444444444,
              "#bd3786"
             ],
             [
              0.5555555555555556,
              "#d8576b"
             ],
             [
              0.6666666666666666,
              "#ed7953"
             ],
             [
              0.7777777777777778,
              "#fb9f3a"
             ],
             [
              0.8888888888888888,
              "#fdca26"
             ],
             [
              1,
              "#f0f921"
             ]
            ],
            "type": "histogram2d"
           }
          ],
          "histogram2dcontour": [
           {
            "colorbar": {
             "outlinewidth": 0,
             "ticks": ""
            },
            "colorscale": [
             [
              0,
              "#0d0887"
             ],
             [
              0.1111111111111111,
              "#46039f"
             ],
             [
              0.2222222222222222,
              "#7201a8"
             ],
             [
              0.3333333333333333,
              "#9c179e"
             ],
             [
              0.4444444444444444,
              "#bd3786"
             ],
             [
              0.5555555555555556,
              "#d8576b"
             ],
             [
              0.6666666666666666,
              "#ed7953"
             ],
             [
              0.7777777777777778,
              "#fb9f3a"
             ],
             [
              0.8888888888888888,
              "#fdca26"
             ],
             [
              1,
              "#f0f921"
             ]
            ],
            "type": "histogram2dcontour"
           }
          ],
          "mesh3d": [
           {
            "colorbar": {
             "outlinewidth": 0,
             "ticks": ""
            },
            "type": "mesh3d"
           }
          ],
          "parcoords": [
           {
            "line": {
             "colorbar": {
              "outlinewidth": 0,
              "ticks": ""
             }
            },
            "type": "parcoords"
           }
          ],
          "pie": [
           {
            "automargin": true,
            "type": "pie"
           }
          ],
          "scatter": [
           {
            "fillpattern": {
             "fillmode": "overlay",
             "size": 10,
             "solidity": 0.2
            },
            "type": "scatter"
           }
          ],
          "scatter3d": [
           {
            "line": {
             "colorbar": {
              "outlinewidth": 0,
              "ticks": ""
             }
            },
            "marker": {
             "colorbar": {
              "outlinewidth": 0,
              "ticks": ""
             }
            },
            "type": "scatter3d"
           }
          ],
          "scattercarpet": [
           {
            "marker": {
             "colorbar": {
              "outlinewidth": 0,
              "ticks": ""
             }
            },
            "type": "scattercarpet"
           }
          ],
          "scattergeo": [
           {
            "marker": {
             "colorbar": {
              "outlinewidth": 0,
              "ticks": ""
             }
            },
            "type": "scattergeo"
           }
          ],
          "scattergl": [
           {
            "marker": {
             "colorbar": {
              "outlinewidth": 0,
              "ticks": ""
             }
            },
            "type": "scattergl"
           }
          ],
          "scattermap": [
           {
            "marker": {
             "colorbar": {
              "outlinewidth": 0,
              "ticks": ""
             }
            },
            "type": "scattermap"
           }
          ],
          "scattermapbox": [
           {
            "marker": {
             "colorbar": {
              "outlinewidth": 0,
              "ticks": ""
             }
            },
            "type": "scattermapbox"
           }
          ],
          "scatterpolar": [
           {
            "marker": {
             "colorbar": {
              "outlinewidth": 0,
              "ticks": ""
             }
            },
            "type": "scatterpolar"
           }
          ],
          "scatterpolargl": [
           {
            "marker": {
             "colorbar": {
              "outlinewidth": 0,
              "ticks": ""
             }
            },
            "type": "scatterpolargl"
           }
          ],
          "scatterternary": [
           {
            "marker": {
             "colorbar": {
              "outlinewidth": 0,
              "ticks": ""
             }
            },
            "type": "scatterternary"
           }
          ],
          "surface": [
           {
            "colorbar": {
             "outlinewidth": 0,
             "ticks": ""
            },
            "colorscale": [
             [
              0,
              "#0d0887"
             ],
             [
              0.1111111111111111,
              "#46039f"
             ],
             [
              0.2222222222222222,
              "#7201a8"
             ],
             [
              0.3333333333333333,
              "#9c179e"
             ],
             [
              0.4444444444444444,
              "#bd3786"
             ],
             [
              0.5555555555555556,
              "#d8576b"
             ],
             [
              0.6666666666666666,
              "#ed7953"
             ],
             [
              0.7777777777777778,
              "#fb9f3a"
             ],
             [
              0.8888888888888888,
              "#fdca26"
             ],
             [
              1,
              "#f0f921"
             ]
            ],
            "type": "surface"
           }
          ],
          "table": [
           {
            "cells": {
             "fill": {
              "color": "#EBF0F8"
             },
             "line": {
              "color": "white"
             }
            },
            "header": {
             "fill": {
              "color": "#C8D4E3"
             },
             "line": {
              "color": "white"
             }
            },
            "type": "table"
           }
          ]
         },
         "layout": {
          "annotationdefaults": {
           "arrowcolor": "#2a3f5f",
           "arrowhead": 0,
           "arrowwidth": 1
          },
          "autotypenumbers": "strict",
          "coloraxis": {
           "colorbar": {
            "outlinewidth": 0,
            "ticks": ""
           }
          },
          "colorscale": {
           "diverging": [
            [
             0,
             "#8e0152"
            ],
            [
             0.1,
             "#c51b7d"
            ],
            [
             0.2,
             "#de77ae"
            ],
            [
             0.3,
             "#f1b6da"
            ],
            [
             0.4,
             "#fde0ef"
            ],
            [
             0.5,
             "#f7f7f7"
            ],
            [
             0.6,
             "#e6f5d0"
            ],
            [
             0.7,
             "#b8e186"
            ],
            [
             0.8,
             "#7fbc41"
            ],
            [
             0.9,
             "#4d9221"
            ],
            [
             1,
             "#276419"
            ]
           ],
           "sequential": [
            [
             0,
             "#0d0887"
            ],
            [
             0.1111111111111111,
             "#46039f"
            ],
            [
             0.2222222222222222,
             "#7201a8"
            ],
            [
             0.3333333333333333,
             "#9c179e"
            ],
            [
             0.4444444444444444,
             "#bd3786"
            ],
            [
             0.5555555555555556,
             "#d8576b"
            ],
            [
             0.6666666666666666,
             "#ed7953"
            ],
            [
             0.7777777777777778,
             "#fb9f3a"
            ],
            [
             0.8888888888888888,
             "#fdca26"
            ],
            [
             1,
             "#f0f921"
            ]
           ],
           "sequentialminus": [
            [
             0,
             "#0d0887"
            ],
            [
             0.1111111111111111,
             "#46039f"
            ],
            [
             0.2222222222222222,
             "#7201a8"
            ],
            [
             0.3333333333333333,
             "#9c179e"
            ],
            [
             0.4444444444444444,
             "#bd3786"
            ],
            [
             0.5555555555555556,
             "#d8576b"
            ],
            [
             0.6666666666666666,
             "#ed7953"
            ],
            [
             0.7777777777777778,
             "#fb9f3a"
            ],
            [
             0.8888888888888888,
             "#fdca26"
            ],
            [
             1,
             "#f0f921"
            ]
           ]
          },
          "colorway": [
           "#636efa",
           "#EF553B",
           "#00cc96",
           "#ab63fa",
           "#FFA15A",
           "#19d3f3",
           "#FF6692",
           "#B6E880",
           "#FF97FF",
           "#FECB52"
          ],
          "font": {
           "color": "#2a3f5f"
          },
          "geo": {
           "bgcolor": "white",
           "lakecolor": "white",
           "landcolor": "#E5ECF6",
           "showlakes": true,
           "showland": true,
           "subunitcolor": "white"
          },
          "hoverlabel": {
           "align": "left"
          },
          "hovermode": "closest",
          "mapbox": {
           "style": "light"
          },
          "paper_bgcolor": "white",
          "plot_bgcolor": "#E5ECF6",
          "polar": {
           "angularaxis": {
            "gridcolor": "white",
            "linecolor": "white",
            "ticks": ""
           },
           "bgcolor": "#E5ECF6",
           "radialaxis": {
            "gridcolor": "white",
            "linecolor": "white",
            "ticks": ""
           }
          },
          "scene": {
           "xaxis": {
            "backgroundcolor": "#E5ECF6",
            "gridcolor": "white",
            "gridwidth": 2,
            "linecolor": "white",
            "showbackground": true,
            "ticks": "",
            "zerolinecolor": "white"
           },
           "yaxis": {
            "backgroundcolor": "#E5ECF6",
            "gridcolor": "white",
            "gridwidth": 2,
            "linecolor": "white",
            "showbackground": true,
            "ticks": "",
            "zerolinecolor": "white"
           },
           "zaxis": {
            "backgroundcolor": "#E5ECF6",
            "gridcolor": "white",
            "gridwidth": 2,
            "linecolor": "white",
            "showbackground": true,
            "ticks": "",
            "zerolinecolor": "white"
           }
          },
          "shapedefaults": {
           "line": {
            "color": "#2a3f5f"
           }
          },
          "ternary": {
           "aaxis": {
            "gridcolor": "white",
            "linecolor": "white",
            "ticks": ""
           },
           "baxis": {
            "gridcolor": "white",
            "linecolor": "white",
            "ticks": ""
           },
           "bgcolor": "#E5ECF6",
           "caxis": {
            "gridcolor": "white",
            "linecolor": "white",
            "ticks": ""
           }
          },
          "title": {
           "x": 0.05
          },
          "xaxis": {
           "automargin": true,
           "gridcolor": "white",
           "linecolor": "white",
           "ticks": "",
           "title": {
            "standoff": 15
           },
           "zerolinecolor": "white",
           "zerolinewidth": 2
          },
          "yaxis": {
           "automargin": true,
           "gridcolor": "white",
           "linecolor": "white",
           "ticks": "",
           "title": {
            "standoff": 15
           },
           "zerolinecolor": "white",
           "zerolinewidth": 2
          }
         }
        },
        "title": {
         "text": "SPX Intraday Price - 2024-05-10"
        },
        "xaxis": {
         "anchor": "y",
         "domain": [
          0,
          1
         ],
         "title": {
          "text": "Time"
         }
        },
        "yaxis": {
         "anchor": "x",
         "domain": [
          0,
          1
         ],
         "title": {
          "text": "Price"
         }
        }
       }
      },
      "image/png": "[encoded data removed]"
     },
     "metadata": {},
     "output_type": "display_data"
    }
   ],
   "source": [
    "# Plot the SPX closing price to visualize the intraday movement\n",
    "fig = px.line(spx_df, y='close', title='SPX Intraday Price - 2024-05-10', labels={'timestamp': 'Time', 'close': 'Price'})\n",
    "fig.show()"
   ]
  },
  {
   "cell_type": "code",
   "execution_count": null,
   "id": "4ab3b65d-1b70-4a0a-a412-572024b724db",
   "metadata": {},
   "outputs": [],
   "source": []
  }
 ],
 "metadata": {
  "kernelspec": {
   "display_name": "Python 3 (ipykernel)",
   "language": "python",
   "name": "python3"
  },
  "language_info": {
   "codemirror_mode": {
    "name": "ipython",
    "version": 3
   },
   "file_extension": ".py",
   "mimetype": "text/x-python",
   "name": "python",
   "nbconvert_exporter": "python",
   "pygments_lexer": "ipython3",
   "version": "3.11.13"
  }
 },
 "nbformat": 4,
 "nbformat_minor": 5
}
