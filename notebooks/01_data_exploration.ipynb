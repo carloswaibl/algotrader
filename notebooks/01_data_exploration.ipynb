{
 "cells": [
  {
   "cell_type": "code",
   "execution_count": 1,
   "id": "26aabef6",
   "metadata": {
    "vscode": {
     "languageId": "plaintext"
    }
   },
   "outputs": [
    {
     "name": "stdout",
     "output_type": "stream",
     "text": [
      "Libraries imported successfully.\n"
     ]
    }
   ],
   "source": [
    "# Import necessary libraries\n",
    "import pandas as pd\n",
    "import numpy as np\n",
    "import matplotlib.pyplot as plt\n",
    "import plotly.express as px # A great library for interactive plots\n",
    "\n",
    "# Set some display options for pandas\n",
    "pd.set_option('display.max_rows', 100)\n",
    "\n",
    "print(\"Libraries imported successfully.\")"
   ]
  },
  {
   "cell_type": "code",
   "execution_count": 2,
   "id": "792ff043",
   "metadata": {
    "vscode": {
     "languageId": "plaintext"
    }
   },
   "outputs": [
    {
     "name": "stdout",
     "output_type": "stream",
     "text": [
      "Data loaded successfully!\n"
     ]
    }
   ],
   "source": [
    "# Define file paths\n",
    "# We are inside the /app/notebooks directory in the container\n",
    "DATA_DIR = \"../data/parquet/\"\n",
    "SPX_FILE = DATA_DIR + \"SPX_20250613.parquet\"\n",
    "OPTIONS_FILE = DATA_DIR + \"SPX_OPTIONS_20250613.parquet\"\n",
    "\n",
    "# Load the data using pandas\n",
    "try:\n",
    "    spx_df = pd.read_parquet(SPX_FILE)\n",
    "    options_df = pd.read_parquet(OPTIONS_FILE)\n",
    "    print(\"Data loaded successfully!\")\n",
    "except FileNotFoundError as e:\n",
    "    print(f\"Error loading data: {e}\")\n",
    "    print(\"Please ensure you have run the `create_mock_data.py` script first.\")"
   ]
  },
  {
   "cell_type": "code",
   "execution_count": 4,
   "id": "0c1043e5",
   "metadata": {
    "vscode": {
     "languageId": "plaintext"
    }
   },
   "outputs": [
    {
     "name": "stdout",
     "output_type": "stream",
     "text": [
      "--- SPX Data ---\n",
      "Shape of the data (rows, columns): (390, 5)\n",
      "\n",
      "First 5 rows:\n"
     ]
    },
    {
     "data": {
      "text/html": [
       "<div>\n",
       "<style scoped>\n",
       "    .dataframe tbody tr th:only-of-type {\n",
       "        vertical-align: middle;\n",
       "    }\n",
       "\n",
       "    .dataframe tbody tr th {\n",
       "        vertical-align: top;\n",
       "    }\n",
       "\n",
       "    .dataframe thead th {\n",
       "        text-align: right;\n",
       "    }\n",
       "</style>\n",
       "<table border=\"1\" class=\"dataframe\">\n",
       "  <thead>\n",
       "    <tr style=\"text-align: right;\">\n",
       "      <th></th>\n",
       "      <th>open</th>\n",
       "      <th>high</th>\n",
       "      <th>low</th>\n",
       "      <th>close</th>\n",
       "      <th>volume</th>\n",
       "    </tr>\n",
       "    <tr>\n",
       "      <th>timestamp</th>\n",
       "      <th></th>\n",
       "      <th></th>\n",
       "      <th></th>\n",
       "      <th></th>\n",
       "      <th></th>\n",
       "    </tr>\n",
       "  </thead>\n",
       "  <tbody>\n",
       "    <tr>\n",
       "      <th>2025-06-13 09:30:00</th>\n",
       "      <td>5200.566429</td>\n",
       "      <td>5200.566429</td>\n",
       "      <td>5200.566429</td>\n",
       "      <td>5200.566429</td>\n",
       "      <td>2678</td>\n",
       "    </tr>\n",
       "    <tr>\n",
       "      <th>2025-06-13 09:31:00</th>\n",
       "      <td>5200.810759</td>\n",
       "      <td>5200.810759</td>\n",
       "      <td>5200.810759</td>\n",
       "      <td>5200.810759</td>\n",
       "      <td>2831</td>\n",
       "    </tr>\n",
       "    <tr>\n",
       "      <th>2025-06-13 09:32:00</th>\n",
       "      <td>5200.672722</td>\n",
       "      <td>5200.672722</td>\n",
       "      <td>5200.672722</td>\n",
       "      <td>5200.672722</td>\n",
       "      <td>1285</td>\n",
       "    </tr>\n",
       "    <tr>\n",
       "      <th>2025-06-13 09:33:00</th>\n",
       "      <td>5201.732793</td>\n",
       "      <td>5201.732793</td>\n",
       "      <td>5201.732793</td>\n",
       "      <td>5201.732793</td>\n",
       "      <td>1140</td>\n",
       "    </tr>\n",
       "    <tr>\n",
       "      <th>2025-06-13 09:34:00</th>\n",
       "      <td>5201.621421</td>\n",
       "      <td>5201.621421</td>\n",
       "      <td>5201.621421</td>\n",
       "      <td>5201.621421</td>\n",
       "      <td>1725</td>\n",
       "    </tr>\n",
       "  </tbody>\n",
       "</table>\n",
       "</div>"
      ],
      "text/plain": [
       "                            open         high          low        close  \\\n",
       "timestamp                                                                 \n",
       "2025-06-13 09:30:00  5200.566429  5200.566429  5200.566429  5200.566429   \n",
       "2025-06-13 09:31:00  5200.810759  5200.810759  5200.810759  5200.810759   \n",
       "2025-06-13 09:32:00  5200.672722  5200.672722  5200.672722  5200.672722   \n",
       "2025-06-13 09:33:00  5201.732793  5201.732793  5201.732793  5201.732793   \n",
       "2025-06-13 09:34:00  5201.621421  5201.621421  5201.621421  5201.621421   \n",
       "\n",
       "                     volume  \n",
       "timestamp                    \n",
       "2025-06-13 09:30:00    2678  \n",
       "2025-06-13 09:31:00    2831  \n",
       "2025-06-13 09:32:00    1285  \n",
       "2025-06-13 09:33:00    1140  \n",
       "2025-06-13 09:34:00    1725  "
      ]
     },
     "execution_count": 4,
     "metadata": {},
     "output_type": "execute_result"
    }
   ],
   "source": [
    "# --- Explore the SPX Data ---\n",
    "print(\"--- SPX Data ---\")\n",
    "print(\"Shape of the data (rows, columns):\", spx_df.shape)\n",
    "print(\"\\nFirst 5 rows:\")\n",
    "spx_df.head()"
   ]
  },
  {
   "cell_type": "code",
   "execution_count": 5,
   "id": "2e2732a6",
   "metadata": {
    "vscode": {
     "languageId": "plaintext"
    }
   },
   "outputs": [
    {
     "name": "stdout",
     "output_type": "stream",
     "text": [
      "\n",
      "SPX Data Info:\n",
      "<class 'pandas.core.frame.DataFrame'>\n",
      "DatetimeIndex: 390 entries, 2025-06-13 09:30:00 to 2025-06-13 15:59:00\n",
      "Data columns (total 5 columns):\n",
      " #   Column  Non-Null Count  Dtype  \n",
      "---  ------  --------------  -----  \n",
      " 0   open    390 non-null    float64\n",
      " 1   high    390 non-null    float64\n",
      " 2   low     390 non-null    float64\n",
      " 3   close   390 non-null    float64\n",
      " 4   volume  390 non-null    int32  \n",
      "dtypes: float64(4), int32(1)\n",
      "memory usage: 16.8 KB\n",
      "\n",
      "\n",
      "SPX Descriptive Statistics:\n"
     ]
    },
    {
     "data": {
      "text/html": [
       "<div>\n",
       "<style scoped>\n",
       "    .dataframe tbody tr th:only-of-type {\n",
       "        vertical-align: middle;\n",
       "    }\n",
       "\n",
       "    .dataframe tbody tr th {\n",
       "        vertical-align: top;\n",
       "    }\n",
       "\n",
       "    .dataframe thead th {\n",
       "        text-align: right;\n",
       "    }\n",
       "</style>\n",
       "<table border=\"1\" class=\"dataframe\">\n",
       "  <thead>\n",
       "    <tr style=\"text-align: right;\">\n",
       "      <th></th>\n",
       "      <th>open</th>\n",
       "      <th>high</th>\n",
       "      <th>low</th>\n",
       "      <th>close</th>\n",
       "      <th>volume</th>\n",
       "    </tr>\n",
       "  </thead>\n",
       "  <tbody>\n",
       "    <tr>\n",
       "      <th>count</th>\n",
       "      <td>390.000000</td>\n",
       "      <td>390.000000</td>\n",
       "      <td>390.000000</td>\n",
       "      <td>390.000000</td>\n",
       "      <td>390.000000</td>\n",
       "    </tr>\n",
       "    <tr>\n",
       "      <th>mean</th>\n",
       "      <td>5199.138606</td>\n",
       "      <td>5199.138606</td>\n",
       "      <td>5199.138606</td>\n",
       "      <td>5199.138606</td>\n",
       "      <td>2996.217949</td>\n",
       "    </tr>\n",
       "    <tr>\n",
       "      <th>std</th>\n",
       "      <td>2.900838</td>\n",
       "      <td>2.900838</td>\n",
       "      <td>2.900838</td>\n",
       "      <td>2.900838</td>\n",
       "      <td>1182.859818</td>\n",
       "    </tr>\n",
       "    <tr>\n",
       "      <th>min</th>\n",
       "      <td>5193.876431</td>\n",
       "      <td>5193.876431</td>\n",
       "      <td>5193.876431</td>\n",
       "      <td>5193.876431</td>\n",
       "      <td>1003.000000</td>\n",
       "    </tr>\n",
       "    <tr>\n",
       "      <th>25%</th>\n",
       "      <td>5196.313849</td>\n",
       "      <td>5196.313849</td>\n",
       "      <td>5196.313849</td>\n",
       "      <td>5196.313849</td>\n",
       "      <td>1937.750000</td>\n",
       "    </tr>\n",
       "    <tr>\n",
       "      <th>50%</th>\n",
       "      <td>5199.872586</td>\n",
       "      <td>5199.872586</td>\n",
       "      <td>5199.872586</td>\n",
       "      <td>5199.872586</td>\n",
       "      <td>2964.500000</td>\n",
       "    </tr>\n",
       "    <tr>\n",
       "      <th>75%</th>\n",
       "      <td>5201.621175</td>\n",
       "      <td>5201.621175</td>\n",
       "      <td>5201.621175</td>\n",
       "      <td>5201.621175</td>\n",
       "      <td>4010.750000</td>\n",
       "    </tr>\n",
       "    <tr>\n",
       "      <th>max</th>\n",
       "      <td>5204.531756</td>\n",
       "      <td>5204.531756</td>\n",
       "      <td>5204.531756</td>\n",
       "      <td>5204.531756</td>\n",
       "      <td>4997.000000</td>\n",
       "    </tr>\n",
       "  </tbody>\n",
       "</table>\n",
       "</div>"
      ],
      "text/plain": [
       "              open         high          low        close       volume\n",
       "count   390.000000   390.000000   390.000000   390.000000   390.000000\n",
       "mean   5199.138606  5199.138606  5199.138606  5199.138606  2996.217949\n",
       "std       2.900838     2.900838     2.900838     2.900838  1182.859818\n",
       "min    5193.876431  5193.876431  5193.876431  5193.876431  1003.000000\n",
       "25%    5196.313849  5196.313849  5196.313849  5196.313849  1937.750000\n",
       "50%    5199.872586  5199.872586  5199.872586  5199.872586  2964.500000\n",
       "75%    5201.621175  5201.621175  5201.621175  5201.621175  4010.750000\n",
       "max    5204.531756  5204.531756  5204.531756  5204.531756  4997.000000"
      ]
     },
     "execution_count": 5,
     "metadata": {},
     "output_type": "execute_result"
    }
   ],
   "source": [
    "# Basic info and statistics for SPX data\n",
    "print(\"\\nSPX Data Info:\")\n",
    "spx_df.info()\n",
    "\n",
    "print(\"\\n\\nSPX Descriptive Statistics:\")\n",
    "spx_df.describe()\n"
   ]
  },
  {
   "cell_type": "code",
   "execution_count": 6,
   "id": "4b07ed70",
   "metadata": {
    "vscode": {
     "languageId": "plaintext"
    }
   },
   "outputs": [
    {
     "data": {
      "application/vnd.plotly.v1+json": {
       "config": {
        "plotlyServerURL": "https://plot.ly"
       },
       "data": [
        {
         "hovertemplate": "Time=%{x}<br>Price=%{y}<extra></extra>",
         "legendgroup": "",
         "line": {
          "color": "#636efa",
          "dash": "solid"
         },
         "marker": {
          "symbol": "circle"
         },
         "mode": "lines",
         "name": "",
         "orientation": "v",
         "showlegend": false,
         "type": "scatter",
         "x": [
          "2025-06-13T09:30:00.000000000",
          "2025-06-13T09:31:00.000000000",
          "2025-06-13T09:32:00.000000000",
          "2025-06-13T09:33:00.000000000",
          "2025-06-13T09:34:00.000000000",
          "2025-06-13T09:35:00.000000000",
          "2025-06-13T09:36:00.000000000",
          "2025-06-13T09:37:00.000000000",
          "2025-06-13T09:38:00.000000000",
          "2025-06-13T09:39:00.000000000",
          "2025-06-13T09:40:00.000000000",
          "2025-06-13T09:41:00.000000000",
          "2025-06-13T09:42:00.000000000",
          "2025-06-13T09:43:00.000000000",
          "2025-06-13T09:44:00.000000000",
          "2025-06-13T09:45:00.000000000",
          "2025-06-13T09:46:00.000000000",
          "2025-06-13T09:47:00.000000000",
          "2025-06-13T09:48:00.000000000",
          "2025-06-13T09:49:00.000000000",
          "2025-06-13T09:50:00.000000000",
          "2025-06-13T09:51:00.000000000",
          "2025-06-13T09:52:00.000000000",
          "2025-06-13T09:53:00.000000000",
          "2025-06-13T09:54:00.000000000",
          "2025-06-13T09:55:00.000000000",
          "2025-06-13T09:56:00.000000000",
          "2025-06-13T09:57:00.000000000",
          "2025-06-13T09:58:00.000000000",
          "2025-06-13T09:59:00.000000000",
          "2025-06-13T10:00:00.000000000",
          "2025-06-13T10:01:00.000000000",
          "2025-06-13T10:02:00.000000000",
          "2025-06-13T10:03:00.000000000",
          "2025-06-13T10:04:00.000000000",
          "2025-06-13T10:05:00.000000000",
          "2025-06-13T10:06:00.000000000",
          "2025-06-13T10:07:00.000000000",
          "2025-06-13T10:08:00.000000000",
          "2025-06-13T10:09:00.000000000",
          "2025-06-13T10:10:00.000000000",
          "2025-06-13T10:11:00.000000000",
          "2025-06-13T10:12:00.000000000",
          "2025-06-13T10:13:00.000000000",
          "2025-06-13T10:14:00.000000000",
          "2025-06-13T10:15:00.000000000",
          "2025-06-13T10:16:00.000000000",
          "2025-06-13T10:17:00.000000000",
          "2025-06-13T10:18:00.000000000",
          "2025-06-13T10:19:00.000000000",
          "2025-06-13T10:20:00.000000000",
          "2025-06-13T10:21:00.000000000",
          "2025-06-13T10:22:00.000000000",
          "2025-06-13T10:23:00.000000000",
          "2025-06-13T10:24:00.000000000",
          "2025-06-13T10:25:00.000000000",
          "2025-06-13T10:26:00.000000000",
          "2025-06-13T10:27:00.000000000",
          "2025-06-13T10:28:00.000000000",
          "2025-06-13T10:29:00.000000000",
          "2025-06-13T10:30:00.000000000",
          "2025-06-13T10:31:00.000000000",
          "2025-06-13T10:32:00.000000000",
          "2025-06-13T10:33:00.000000000",
          "2025-06-13T10:34:00.000000000",
          "2025-06-13T10:35:00.000000000",
          "2025-06-13T10:36:00.000000000",
          "2025-06-13T10:37:00.000000000",
          "2025-06-13T10:38:00.000000000",
          "2025-06-13T10:39:00.000000000",
          "2025-06-13T10:40:00.000000000",
          "2025-06-13T10:41:00.000000000",
          "2025-06-13T10:42:00.000000000",
          "2025-06-13T10:43:00.000000000",
          "2025-06-13T10:44:00.000000000",
          "2025-06-13T10:45:00.000000000",
          "2025-06-13T10:46:00.000000000",
          "2025-06-13T10:47:00.000000000",
          "2025-06-13T10:48:00.000000000",
          "2025-06-13T10:49:00.000000000",
          "2025-06-13T10:50:00.000000000",
          "2025-06-13T10:51:00.000000000",
          "2025-06-13T10:52:00.000000000",
          "2025-06-13T10:53:00.000000000",
          "2025-06-13T10:54:00.000000000",
          "2025-06-13T10:55:00.000000000",
          "2025-06-13T10:56:00.000000000",
          "2025-06-13T10:57:00.000000000",
          "2025-06-13T10:58:00.000000000",
          "2025-06-13T10:59:00.000000000",
          "2025-06-13T11:00:00.000000000",
          "2025-06-13T11:01:00.000000000",
          "2025-06-13T11:02:00.000000000",
          "2025-06-13T11:03:00.000000000",
          "2025-06-13T11:04:00.000000000",
          "2025-06-13T11:05:00.000000000",
          "2025-06-13T11:06:00.000000000",
          "2025-06-13T11:07:00.000000000",
          "2025-06-13T11:08:00.000000000",
          "2025-06-13T11:09:00.000000000",
          "2025-06-13T11:10:00.000000000",
          "2025-06-13T11:11:00.000000000",
          "2025-06-13T11:12:00.000000000",
          "2025-06-13T11:13:00.000000000",
          "2025-06-13T11:14:00.000000000",
          "2025-06-13T11:15:00.000000000",
          "2025-06-13T11:16:00.000000000",
          "2025-06-13T11:17:00.000000000",
          "2025-06-13T11:18:00.000000000",
          "2025-06-13T11:19:00.000000000",
          "2025-06-13T11:20:00.000000000",
          "2025-06-13T11:21:00.000000000",
          "2025-06-13T11:22:00.000000000",
          "2025-06-13T11:23:00.000000000",
          "2025-06-13T11:24:00.000000000",
          "2025-06-13T11:25:00.000000000",
          "2025-06-13T11:26:00.000000000",
          "2025-06-13T11:27:00.000000000",
          "2025-06-13T11:28:00.000000000",
          "2025-06-13T11:29:00.000000000",
          "2025-06-13T11:30:00.000000000",
          "2025-06-13T11:31:00.000000000",
          "2025-06-13T11:32:00.000000000",
          "2025-06-13T11:33:00.000000000",
          "2025-06-13T11:34:00.000000000",
          "2025-06-13T11:35:00.000000000",
          "2025-06-13T11:36:00.000000000",
          "2025-06-13T11:37:00.000000000",
          "2025-06-13T11:38:00.000000000",
          "2025-06-13T11:39:00.000000000",
          "2025-06-13T11:40:00.000000000",
          "2025-06-13T11:41:00.000000000",
          "2025-06-13T11:42:00.000000000",
          "2025-06-13T11:43:00.000000000",
          "2025-06-13T11:44:00.000000000",
          "2025-06-13T11:45:00.000000000",
          "2025-06-13T11:46:00.000000000",
          "2025-06-13T11:47:00.000000000",
          "2025-06-13T11:48:00.000000000",
          "2025-06-13T11:49:00.000000000",
          "2025-06-13T11:50:00.000000000",
          "2025-06-13T11:51:00.000000000",
          "2025-06-13T11:52:00.000000000",
          "2025-06-13T11:53:00.000000000",
          "2025-06-13T11:54:00.000000000",
          "2025-06-13T11:55:00.000000000",
          "2025-06-13T11:56:00.000000000",
          "2025-06-13T11:57:00.000000000",
          "2025-06-13T11:58:00.000000000",
          "2025-06-13T11:59:00.000000000",
          "2025-06-13T12:00:00.000000000",
          "2025-06-13T12:01:00.000000000",
          "2025-06-13T12:02:00.000000000",
          "2025-06-13T12:03:00.000000000",
          "2025-06-13T12:04:00.000000000",
          "2025-06-13T12:05:00.000000000",
          "2025-06-13T12:06:00.000000000",
          "2025-06-13T12:07:00.000000000",
          "2025-06-13T12:08:00.000000000",
          "2025-06-13T12:09:00.000000000",
          "2025-06-13T12:10:00.000000000",
          "2025-06-13T12:11:00.000000000",
          "2025-06-13T12:12:00.000000000",
          "2025-06-13T12:13:00.000000000",
          "2025-06-13T12:14:00.000000000",
          "2025-06-13T12:15:00.000000000",
          "2025-06-13T12:16:00.000000000",
          "2025-06-13T12:17:00.000000000",
          "2025-06-13T12:18:00.000000000",
          "2025-06-13T12:19:00.000000000",
          "2025-06-13T12:20:00.000000000",
          "2025-06-13T12:21:00.000000000",
          "2025-06-13T12:22:00.000000000",
          "2025-06-13T12:23:00.000000000",
          "2025-06-13T12:24:00.000000000",
          "2025-06-13T12:25:00.000000000",
          "2025-06-13T12:26:00.000000000",
          "2025-06-13T12:27:00.000000000",
          "2025-06-13T12:28:00.000000000",
          "2025-06-13T12:29:00.000000000",
          "2025-06-13T12:30:00.000000000",
          "2025-06-13T12:31:00.000000000",
          "2025-06-13T12:32:00.000000000",
          "2025-06-13T12:33:00.000000000",
          "2025-06-13T12:34:00.000000000",
          "2025-06-13T12:35:00.000000000",
          "2025-06-13T12:36:00.000000000",
          "2025-06-13T12:37:00.000000000",
          "2025-06-13T12:38:00.000000000",
          "2025-06-13T12:39:00.000000000",
          "2025-06-13T12:40:00.000000000",
          "2025-06-13T12:41:00.000000000",
          "2025-06-13T12:42:00.000000000",
          "2025-06-13T12:43:00.000000000",
          "2025-06-13T12:44:00.000000000",
          "2025-06-13T12:45:00.000000000",
          "2025-06-13T12:46:00.000000000",
          "2025-06-13T12:47:00.000000000",
          "2025-06-13T12:48:00.000000000",
          "2025-06-13T12:49:00.000000000",
          "2025-06-13T12:50:00.000000000",
          "2025-06-13T12:51:00.000000000",
          "2025-06-13T12:52:00.000000000",
          "2025-06-13T12:53:00.000000000",
          "2025-06-13T12:54:00.000000000",
          "2025-06-13T12:55:00.000000000",
          "2025-06-13T12:56:00.000000000",
          "2025-06-13T12:57:00.000000000",
          "2025-06-13T12:58:00.000000000",
          "2025-06-13T12:59:00.000000000",
          "2025-06-13T13:00:00.000000000",
          "2025-06-13T13:01:00.000000000",
          "2025-06-13T13:02:00.000000000",
          "2025-06-13T13:03:00.000000000",
          "2025-06-13T13:04:00.000000000",
          "2025-06-13T13:05:00.000000000",
          "2025-06-13T13:06:00.000000000",
          "2025-06-13T13:07:00.000000000",
          "2025-06-13T13:08:00.000000000",
          "2025-06-13T13:09:00.000000000",
          "2025-06-13T13:10:00.000000000",
          "2025-06-13T13:11:00.000000000",
          "2025-06-13T13:12:00.000000000",
          "2025-06-13T13:13:00.000000000",
          "2025-06-13T13:14:00.000000000",
          "2025-06-13T13:15:00.000000000",
          "2025-06-13T13:16:00.000000000",
          "2025-06-13T13:17:00.000000000",
          "2025-06-13T13:18:00.000000000",
          "2025-06-13T13:19:00.000000000",
          "2025-06-13T13:20:00.000000000",
          "2025-06-13T13:21:00.000000000",
          "2025-06-13T13:22:00.000000000",
          "2025-06-13T13:23:00.000000000",
          "2025-06-13T13:24:00.000000000",
          "2025-06-13T13:25:00.000000000",
          "2025-06-13T13:26:00.000000000",
          "2025-06-13T13:27:00.000000000",
          "2025-06-13T13:28:00.000000000",
          "2025-06-13T13:29:00.000000000",
          "2025-06-13T13:30:00.000000000",
          "2025-06-13T13:31:00.000000000",
          "2025-06-13T13:32:00.000000000",
          "2025-06-13T13:33:00.000000000",
          "2025-06-13T13:34:00.000000000",
          "2025-06-13T13:35:00.000000000",
          "2025-06-13T13:36:00.000000000",
          "2025-06-13T13:37:00.000000000",
          "2025-06-13T13:38:00.000000000",
          "2025-06-13T13:39:00.000000000",
          "2025-06-13T13:40:00.000000000",
          "2025-06-13T13:41:00.000000000",
          "2025-06-13T13:42:00.000000000",
          "2025-06-13T13:43:00.000000000",
          "2025-06-13T13:44:00.000000000",
          "2025-06-13T13:45:00.000000000",
          "2025-06-13T13:46:00.000000000",
          "2025-06-13T13:47:00.000000000",
          "2025-06-13T13:48:00.000000000",
          "2025-06-13T13:49:00.000000000",
          "2025-06-13T13:50:00.000000000",
          "2025-06-13T13:51:00.000000000",
          "2025-06-13T13:52:00.000000000",
          "2025-06-13T13:53:00.000000000",
          "2025-06-13T13:54:00.000000000",
          "2025-06-13T13:55:00.000000000",
          "2025-06-13T13:56:00.000000000",
          "2025-06-13T13:57:00.000000000",
          "2025-06-13T13:58:00.000000000",
          "2025-06-13T13:59:00.000000000",
          "2025-06-13T14:00:00.000000000",
          "2025-06-13T14:01:00.000000000",
          "2025-06-13T14:02:00.000000000",
          "2025-06-13T14:03:00.000000000",
          "2025-06-13T14:04:00.000000000",
          "2025-06-13T14:05:00.000000000",
          "2025-06-13T14:06:00.000000000",
          "2025-06-13T14:07:00.000000000",
          "2025-06-13T14:08:00.000000000",
          "2025-06-13T14:09:00.000000000",
          "2025-06-13T14:10:00.000000000",
          "2025-06-13T14:11:00.000000000",
          "2025-06-13T14:12:00.000000000",
          "2025-06-13T14:13:00.000000000",
          "2025-06-13T14:14:00.000000000",
          "2025-06-13T14:15:00.000000000",
          "2025-06-13T14:16:00.000000000",
          "2025-06-13T14:17:00.000000000",
          "2025-06-13T14:18:00.000000000",
          "2025-06-13T14:19:00.000000000",
          "2025-06-13T14:20:00.000000000",
          "2025-06-13T14:21:00.000000000",
          "2025-06-13T14:22:00.000000000",
          "2025-06-13T14:23:00.000000000",
          "2025-06-13T14:24:00.000000000",
          "2025-06-13T14:25:00.000000000",
          "2025-06-13T14:26:00.000000000",
          "2025-06-13T14:27:00.000000000",
          "2025-06-13T14:28:00.000000000",
          "2025-06-13T14:29:00.000000000",
          "2025-06-13T14:30:00.000000000",
          "2025-06-13T14:31:00.000000000",
          "2025-06-13T14:32:00.000000000",
          "2025-06-13T14:33:00.000000000",
          "2025-06-13T14:34:00.000000000",
          "2025-06-13T14:35:00.000000000",
          "2025-06-13T14:36:00.000000000",
          "2025-06-13T14:37:00.000000000",
          "2025-06-13T14:38:00.000000000",
          "2025-06-13T14:39:00.000000000",
          "2025-06-13T14:40:00.000000000",
          "2025-06-13T14:41:00.000000000",
          "2025-06-13T14:42:00.000000000",
          "2025-06-13T14:43:00.000000000",
          "2025-06-13T14:44:00.000000000",
          "2025-06-13T14:45:00.000000000",
          "2025-06-13T14:46:00.000000000",
          "2025-06-13T14:47:00.000000000",
          "2025-06-13T14:48:00.000000000",
          "2025-06-13T14:49:00.000000000",
          "2025-06-13T14:50:00.000000000",
          "2025-06-13T14:51:00.000000000",
          "2025-06-13T14:52:00.000000000",
          "2025-06-13T14:53:00.000000000",
          "2025-06-13T14:54:00.000000000",
          "2025-06-13T14:55:00.000000000",
          "2025-06-13T14:56:00.000000000",
          "2025-06-13T14:57:00.000000000",
          "2025-06-13T14:58:00.000000000",
          "2025-06-13T14:59:00.000000000",
          "2025-06-13T15:00:00.000000000",
          "2025-06-13T15:01:00.000000000",
          "2025-06-13T15:02:00.000000000",
          "2025-06-13T15:03:00.000000000",
          "2025-06-13T15:04:00.000000000",
          "2025-06-13T15:05:00.000000000",
          "2025-06-13T15:06:00.000000000",
          "2025-06-13T15:07:00.000000000",
          "2025-06-13T15:08:00.000000000",
          "2025-06-13T15:09:00.000000000",
          "2025-06-13T15:10:00.000000000",
          "2025-06-13T15:11:00.000000000",
          "2025-06-13T15:12:00.000000000",
          "2025-06-13T15:13:00.000000000",
          "2025-06-13T15:14:00.000000000",
          "2025-06-13T15:15:00.000000000",
          "2025-06-13T15:16:00.000000000",
          "2025-06-13T15:17:00.000000000",
          "2025-06-13T15:18:00.000000000",
          "2025-06-13T15:19:00.000000000",
          "2025-06-13T15:20:00.000000000",
          "2025-06-13T15:21:00.000000000",
          "2025-06-13T15:22:00.000000000",
          "2025-06-13T15:23:00.000000000",
          "2025-06-13T15:24:00.000000000",
          "2025-06-13T15:25:00.000000000",
          "2025-06-13T15:26:00.000000000",
          "2025-06-13T15:27:00.000000000",
          "2025-06-13T15:28:00.000000000",
          "2025-06-13T15:29:00.000000000",
          "2025-06-13T15:30:00.000000000",
          "2025-06-13T15:31:00.000000000",
          "2025-06-13T15:32:00.000000000",
          "2025-06-13T15:33:00.000000000",
          "2025-06-13T15:34:00.000000000",
          "2025-06-13T15:35:00.000000000",
          "2025-06-13T15:36:00.000000000",
          "2025-06-13T15:37:00.000000000",
          "2025-06-13T15:38:00.000000000",
          "2025-06-13T15:39:00.000000000",
          "2025-06-13T15:40:00.000000000",
          "2025-06-13T15:41:00.000000000",
          "2025-06-13T15:42:00.000000000",
          "2025-06-13T15:43:00.000000000",
          "2025-06-13T15:44:00.000000000",
          "2025-06-13T15:45:00.000000000",
          "2025-06-13T15:46:00.000000000",
          "2025-06-13T15:47:00.000000000",
          "2025-06-13T15:48:00.000000000",
          "2025-06-13T15:49:00.000000000",
          "2025-06-13T15:50:00.000000000",
          "2025-06-13T15:51:00.000000000",
          "2025-06-13T15:52:00.000000000",
          "2025-06-13T15:53:00.000000000",
          "2025-06-13T15:54:00.000000000",
          "2025-06-13T15:55:00.000000000",
          "2025-06-13T15:56:00.000000000",
          "2025-06-13T15:57:00.000000000",
          "2025-06-13T15:58:00.000000000",
          "2025-06-13T15:59:00.000000000"
         ],
         "xaxis": "x",
         "y": {
          "bdata": "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",
          "dtype": "f8"
         },
         "yaxis": "y"
        }
       ],
       "layout": {
        "legend": {
         "tracegroupgap": 0
        },
        "template": {
         "data": {
          "bar": [
           {
            "error_x": {
             "color": "#2a3f5f"
            },
            "error_y": {
             "color": "#2a3f5f"
            },
            "marker": {
             "line": {
              "color": "#E5ECF6",
              "width": 0.5
             },
             "pattern": {
              "fillmode": "overlay",
              "size": 10,
              "solidity": 0.2
             }
            },
            "type": "bar"
           }
          ],
          "barpolar": [
           {
            "marker": {
             "line": {
              "color": "#E5ECF6",
              "width": 0.5
             },
             "pattern": {
              "fillmode": "overlay",
              "size": 10,
              "solidity": 0.2
             }
            },
            "type": "barpolar"
           }
          ],
          "carpet": [
           {
            "aaxis": {
             "endlinecolor": "#2a3f5f",
             "gridcolor": "white",
             "linecolor": "white",
             "minorgridcolor": "white",
             "startlinecolor": "#2a3f5f"
            },
            "baxis": {
             "endlinecolor": "#2a3f5f",
             "gridcolor": "white",
             "linecolor": "white",
             "minorgridcolor": "white",
             "startlinecolor": "#2a3f5f"
            },
            "type": "carpet"
           }
          ],
          "choropleth": [
           {
            "colorbar": {
             "outlinewidth": 0,
             "ticks": ""
            },
            "type": "choropleth"
           }
          ],
          "contour": [
           {
            "colorbar": {
             "outlinewidth": 0,
             "ticks": ""
            },
            "colorscale": [
             [
              0,
              "#0d0887"
             ],
             [
              0.1111111111111111,
              "#46039f"
             ],
             [
              0.2222222222222222,
              "#7201a8"
             ],
             [
              0.3333333333333333,
              "#9c179e"
             ],
             [
              0.4444444444444444,
              "#bd3786"
             ],
             [
              0.5555555555555556,
              "#d8576b"
             ],
             [
              0.6666666666666666,
              "#ed7953"
             ],
             [
              0.7777777777777778,
              "#fb9f3a"
             ],
             [
              0.8888888888888888,
              "#fdca26"
             ],
             [
              1,
              "#f0f921"
             ]
            ],
            "type": "contour"
           }
          ],
          "contourcarpet": [
           {
            "colorbar": {
             "outlinewidth": 0,
             "ticks": ""
            },
            "type": "contourcarpet"
           }
          ],
          "heatmap": [
           {
            "colorbar": {
             "outlinewidth": 0,
             "ticks": ""
            },
            "colorscale": [
             [
              0,
              "#0d0887"
             ],
             [
              0.1111111111111111,
              "#46039f"
             ],
             [
              0.2222222222222222,
              "#7201a8"
             ],
             [
              0.3333333333333333,
              "#9c179e"
             ],
             [
              0.4444444444444444,
              "#bd3786"
             ],
             [
              0.5555555555555556,
              "#d8576b"
             ],
             [
              0.6666666666666666,
              "#ed7953"
             ],
             [
              0.7777777777777778,
              "#fb9f3a"
             ],
             [
              0.8888888888888888,
              "#fdca26"
             ],
             [
              1,
              "#f0f921"
             ]
            ],
            "type": "heatmap"
           }
          ],
          "histogram": [
           {
            "marker": {
             "pattern": {
              "fillmode": "overlay",
              "size": 10,
              "solidity": 0.2
             }
            },
            "type": "histogram"
           }
          ],
          "histogram2d": [
           {
            "colorbar": {
             "outlinewidth": 0,
             "ticks": ""
            },
            "colorscale": [
             [
              0,
              "#0d0887"
             ],
             [
              0.1111111111111111,
              "#46039f"
             ],
             [
              0.2222222222222222,
              "#7201a8"
             ],
             [
              0.3333333333333333,
              "#9c179e"
             ],
             [
              0.4444444444444444,
              "#bd3786"
             ],
             [
              0.5555555555555556,
              "#d8576b"
             ],
             [
              0.6666666666666666,
              "#ed7953"
             ],
             [
              0.7777777777777778,
              "#fb9f3a"
             ],
             [
              0.8888888888888888,
              "#fdca26"
             ],
             [
              1,
              "#f0f921"
             ]
            ],
            "type": "histogram2d"
           }
          ],
          "histogram2dcontour": [
           {
            "colorbar": {
             "outlinewidth": 0,
             "ticks": ""
            },
            "colorscale": [
             [
              0,
              "#0d0887"
             ],
             [
              0.1111111111111111,
              "#46039f"
             ],
             [
              0.2222222222222222,
              "#7201a8"
             ],
             [
              0.3333333333333333,
              "#9c179e"
             ],
             [
              0.4444444444444444,
              "#bd3786"
             ],
             [
              0.5555555555555556,
              "#d8576b"
             ],
             [
              0.6666666666666666,
              "#ed7953"
             ],
             [
              0.7777777777777778,
              "#fb9f3a"
             ],
             [
              0.8888888888888888,
              "#fdca26"
             ],
             [
              1,
              "#f0f921"
             ]
            ],
            "type": "histogram2dcontour"
           }
          ],
          "mesh3d": [
           {
            "colorbar": {
             "outlinewidth": 0,
             "ticks": ""
            },
            "type": "mesh3d"
           }
          ],
          "parcoords": [
           {
            "line": {
             "colorbar": {
              "outlinewidth": 0,
              "ticks": ""
             }
            },
            "type": "parcoords"
           }
          ],
          "pie": [
           {
            "automargin": true,
            "type": "pie"
           }
          ],
          "scatter": [
           {
            "fillpattern": {
             "fillmode": "overlay",
             "size": 10,
             "solidity": 0.2
            },
            "type": "scatter"
           }
          ],
          "scatter3d": [
           {
            "line": {
             "colorbar": {
              "outlinewidth": 0,
              "ticks": ""
             }
            },
            "marker": {
             "colorbar": {
              "outlinewidth": 0,
              "ticks": ""
             }
            },
            "type": "scatter3d"
           }
          ],
          "scattercarpet": [
           {
            "marker": {
             "colorbar": {
              "outlinewidth": 0,
              "ticks": ""
             }
            },
            "type": "scattercarpet"
           }
          ],
          "scattergeo": [
           {
            "marker": {
             "colorbar": {
              "outlinewidth": 0,
              "ticks": ""
             }
            },
            "type": "scattergeo"
           }
          ],
          "scattergl": [
           {
            "marker": {
             "colorbar": {
              "outlinewidth": 0,
              "ticks": ""
             }
            },
            "type": "scattergl"
           }
          ],
          "scattermap": [
           {
            "marker": {
             "colorbar": {
              "outlinewidth": 0,
              "ticks": ""
             }
            },
            "type": "scattermap"
           }
          ],
          "scattermapbox": [
           {
            "marker": {
             "colorbar": {
              "outlinewidth": 0,
              "ticks": ""
             }
            },
            "type": "scattermapbox"
           }
          ],
          "scatterpolar": [
           {
            "marker": {
             "colorbar": {
              "outlinewidth": 0,
              "ticks": ""
             }
            },
            "type": "scatterpolar"
           }
          ],
          "scatterpolargl": [
           {
            "marker": {
             "colorbar": {
              "outlinewidth": 0,
              "ticks": ""
             }
            },
            "type": "scatterpolargl"
           }
          ],
          "scatterternary": [
           {
            "marker": {
             "colorbar": {
              "outlinewidth": 0,
              "ticks": ""
             }
            },
            "type": "scatterternary"
           }
          ],
          "surface": [
           {
            "colorbar": {
             "outlinewidth": 0,
             "ticks": ""
            },
            "colorscale": [
             [
              0,
              "#0d0887"
             ],
             [
              0.1111111111111111,
              "#46039f"
             ],
             [
              0.2222222222222222,
              "#7201a8"
             ],
             [
              0.3333333333333333,
              "#9c179e"
             ],
             [
              0.4444444444444444,
              "#bd3786"
             ],
             [
              0.5555555555555556,
              "#d8576b"
             ],
             [
              0.6666666666666666,
              "#ed7953"
             ],
             [
              0.7777777777777778,
              "#fb9f3a"
             ],
             [
              0.8888888888888888,
              "#fdca26"
             ],
             [
              1,
              "#f0f921"
             ]
            ],
            "type": "surface"
           }
          ],
          "table": [
           {
            "cells": {
             "fill": {
              "color": "#EBF0F8"
             },
             "line": {
              "color": "white"
             }
            },
            "header": {
             "fill": {
              "color": "#C8D4E3"
             },
             "line": {
              "color": "white"
             }
            },
            "type": "table"
           }
          ]
         },
         "layout": {
          "annotationdefaults": {
           "arrowcolor": "#2a3f5f",
           "arrowhead": 0,
           "arrowwidth": 1
          },
          "autotypenumbers": "strict",
          "coloraxis": {
           "colorbar": {
            "outlinewidth": 0,
            "ticks": ""
           }
          },
          "colorscale": {
           "diverging": [
            [
             0,
             "#8e0152"
            ],
            [
             0.1,
             "#c51b7d"
            ],
            [
             0.2,
             "#de77ae"
            ],
            [
             0.3,
             "#f1b6da"
            ],
            [
             0.4,
             "#fde0ef"
            ],
            [
             0.5,
             "#f7f7f7"
            ],
            [
             0.6,
             "#e6f5d0"
            ],
            [
             0.7,
             "#b8e186"
            ],
            [
             0.8,
             "#7fbc41"
            ],
            [
             0.9,
             "#4d9221"
            ],
            [
             1,
             "#276419"
            ]
           ],
           "sequential": [
            [
             0,
             "#0d0887"
            ],
            [
             0.1111111111111111,
             "#46039f"
            ],
            [
             0.2222222222222222,
             "#7201a8"
            ],
            [
             0.3333333333333333,
             "#9c179e"
            ],
            [
             0.4444444444444444,
             "#bd3786"
            ],
            [
             0.5555555555555556,
             "#d8576b"
            ],
            [
             0.6666666666666666,
             "#ed7953"
            ],
            [
             0.7777777777777778,
             "#fb9f3a"
            ],
            [
             0.8888888888888888,
             "#fdca26"
            ],
            [
             1,
             "#f0f921"
            ]
           ],
           "sequentialminus": [
            [
             0,
             "#0d0887"
            ],
            [
             0.1111111111111111,
             "#46039f"
            ],
            [
             0.2222222222222222,
             "#7201a8"
            ],
            [
             0.3333333333333333,
             "#9c179e"
            ],
            [
             0.4444444444444444,
             "#bd3786"
            ],
            [
             0.5555555555555556,
             "#d8576b"
            ],
            [
             0.6666666666666666,
             "#ed7953"
            ],
            [
             0.7777777777777778,
             "#fb9f3a"
            ],
            [
             0.8888888888888888,
             "#fdca26"
            ],
            [
             1,
             "#f0f921"
            ]
           ]
          },
          "colorway": [
           "#636efa",
           "#EF553B",
           "#00cc96",
           "#ab63fa",
           "#FFA15A",
           "#19d3f3",
           "#FF6692",
           "#B6E880",
           "#FF97FF",
           "#FECB52"
          ],
          "font": {
           "color": "#2a3f5f"
          },
          "geo": {
           "bgcolor": "white",
           "lakecolor": "white",
           "landcolor": "#E5ECF6",
           "showlakes": true,
           "showland": true,
           "subunitcolor": "white"
          },
          "hoverlabel": {
           "align": "left"
          },
          "hovermode": "closest",
          "mapbox": {
           "style": "light"
          },
          "paper_bgcolor": "white",
          "plot_bgcolor": "#E5ECF6",
          "polar": {
           "angularaxis": {
            "gridcolor": "white",
            "linecolor": "white",
            "ticks": ""
           },
           "bgcolor": "#E5ECF6",
           "radialaxis": {
            "gridcolor": "white",
            "linecolor": "white",
            "ticks": ""
           }
          },
          "scene": {
           "xaxis": {
            "backgroundcolor": "#E5ECF6",
            "gridcolor": "white",
            "gridwidth": 2,
            "linecolor": "white",
            "showbackground": true,
            "ticks": "",
            "zerolinecolor": "white"
           },
           "yaxis": {
            "backgroundcolor": "#E5ECF6",
            "gridcolor": "white",
            "gridwidth": 2,
            "linecolor": "white",
            "showbackground": true,
            "ticks": "",
            "zerolinecolor": "white"
           },
           "zaxis": {
            "backgroundcolor": "#E5ECF6",
            "gridcolor": "white",
            "gridwidth": 2,
            "linecolor": "white",
            "showbackground": true,
            "ticks": "",
            "zerolinecolor": "white"
           }
          },
          "shapedefaults": {
           "line": {
            "color": "#2a3f5f"
           }
          },
          "ternary": {
           "aaxis": {
            "gridcolor": "white",
            "linecolor": "white",
            "ticks": ""
           },
           "baxis": {
            "gridcolor": "white",
            "linecolor": "white",
            "ticks": ""
           },
           "bgcolor": "#E5ECF6",
           "caxis": {
            "gridcolor": "white",
            "linecolor": "white",
            "ticks": ""
           }
          },
          "title": {
           "x": 0.05
          },
          "xaxis": {
           "automargin": true,
           "gridcolor": "white",
           "linecolor": "white",
           "ticks": "",
           "title": {
            "standoff": 15
           },
           "zerolinecolor": "white",
           "zerolinewidth": 2
          },
          "yaxis": {
           "automargin": true,
           "gridcolor": "white",
           "linecolor": "white",
           "ticks": "",
           "title": {
            "standoff": 15
           },
           "zerolinecolor": "white",
           "zerolinewidth": 2
          }
         }
        },
        "title": {
         "text": "Mock SPX Intraday Price - 2025-06-13"
        },
        "xaxis": {
         "anchor": "y",
         "domain": [
          0,
          1
         ],
         "title": {
          "text": "Time"
         }
        },
        "yaxis": {
         "anchor": "x",
         "domain": [
          0,
          1
         ],
         "title": {
          "text": "Price"
         }
        }
       }
      },
      "image/png": "[encoded data removed]"
     },
     "metadata": {},
     "output_type": "display_data"
    }
   ],
   "source": [
    "# Plot the SPX closing price to visualize the intraday movement\n",
    "fig = px.line(spx_df, y='close', title='Mock SPX Intraday Price - 2025-06-13', labels={'timestamp': 'Time', 'close': 'Price'})\n",
    "fig.show()"
   ]
  },
  {
   "cell_type": "code",
   "execution_count": 7,
   "id": "7e5ebef3",
   "metadata": {
    "vscode": {
     "languageId": "plaintext"
    }
   },
   "outputs": [
    {
     "name": "stdout",
     "output_type": "stream",
     "text": [
      "\n",
      "--- Options Data ---\n",
      "Shape of the data (rows, columns): (390, 7)\n",
      "\n",
      "First 5 rows:\n"
     ]
    },
    {
     "data": {
      "text/html": [
       "<div>\n",
       "<style scoped>\n",
       "    .dataframe tbody tr th:only-of-type {\n",
       "        vertical-align: middle;\n",
       "    }\n",
       "\n",
       "    .dataframe tbody tr th {\n",
       "        vertical-align: top;\n",
       "    }\n",
       "\n",
       "    .dataframe thead th {\n",
       "        text-align: right;\n",
       "    }\n",
       "</style>\n",
       "<table border=\"1\" class=\"dataframe\">\n",
       "  <thead>\n",
       "    <tr style=\"text-align: right;\">\n",
       "      <th></th>\n",
       "      <th>underlying_price</th>\n",
       "      <th>contract_type</th>\n",
       "      <th>expiration</th>\n",
       "      <th>strike</th>\n",
       "      <th>bid</th>\n",
       "      <th>ask</th>\n",
       "      <th>delta</th>\n",
       "    </tr>\n",
       "    <tr>\n",
       "      <th>timestamp</th>\n",
       "      <th></th>\n",
       "      <th></th>\n",
       "      <th></th>\n",
       "      <th></th>\n",
       "      <th></th>\n",
       "      <th></th>\n",
       "      <th></th>\n",
       "    </tr>\n",
       "  </thead>\n",
       "  <tbody>\n",
       "    <tr>\n",
       "      <th>2025-06-13 09:30:00</th>\n",
       "      <td>5200.566429</td>\n",
       "      <td>put</td>\n",
       "      <td>2025-06-13</td>\n",
       "      <td>5180</td>\n",
       "      <td>-0.490730</td>\n",
       "      <td>-0.302921</td>\n",
       "      <td>-0.1</td>\n",
       "    </tr>\n",
       "    <tr>\n",
       "      <th>2025-06-13 09:30:00</th>\n",
       "      <td>5200.566429</td>\n",
       "      <td>put</td>\n",
       "      <td>2025-06-13</td>\n",
       "      <td>5190</td>\n",
       "      <td>0.502510</td>\n",
       "      <td>0.660611</td>\n",
       "      <td>0.0</td>\n",
       "    </tr>\n",
       "    <tr>\n",
       "      <th>2025-06-13 09:30:00</th>\n",
       "      <td>5200.566429</td>\n",
       "      <td>put</td>\n",
       "      <td>2025-06-13</td>\n",
       "      <td>5200</td>\n",
       "      <td>1.569072</td>\n",
       "      <td>1.686263</td>\n",
       "      <td>0.1</td>\n",
       "    </tr>\n",
       "    <tr>\n",
       "      <th>2025-06-13 09:30:00</th>\n",
       "      <td>5200.566429</td>\n",
       "      <td>put</td>\n",
       "      <td>2025-06-13</td>\n",
       "      <td>5210</td>\n",
       "      <td>2.500864</td>\n",
       "      <td>2.613434</td>\n",
       "      <td>0.2</td>\n",
       "    </tr>\n",
       "    <tr>\n",
       "      <th>2025-06-13 09:30:00</th>\n",
       "      <td>5200.566429</td>\n",
       "      <td>put</td>\n",
       "      <td>2025-06-13</td>\n",
       "      <td>5220</td>\n",
       "      <td>3.553447</td>\n",
       "      <td>3.686805</td>\n",
       "      <td>0.3</td>\n",
       "    </tr>\n",
       "  </tbody>\n",
       "</table>\n",
       "</div>"
      ],
      "text/plain": [
       "                     underlying_price contract_type  expiration  strike  \\\n",
       "timestamp                                                                 \n",
       "2025-06-13 09:30:00       5200.566429           put  2025-06-13    5180   \n",
       "2025-06-13 09:30:00       5200.566429           put  2025-06-13    5190   \n",
       "2025-06-13 09:30:00       5200.566429           put  2025-06-13    5200   \n",
       "2025-06-13 09:30:00       5200.566429           put  2025-06-13    5210   \n",
       "2025-06-13 09:30:00       5200.566429           put  2025-06-13    5220   \n",
       "\n",
       "                          bid       ask  delta  \n",
       "timestamp                                       \n",
       "2025-06-13 09:30:00 -0.490730 -0.302921   -0.1  \n",
       "2025-06-13 09:30:00  0.502510  0.660611    0.0  \n",
       "2025-06-13 09:30:00  1.569072  1.686263    0.1  \n",
       "2025-06-13 09:30:00  2.500864  2.613434    0.2  \n",
       "2025-06-13 09:30:00  3.553447  3.686805    0.3  "
      ]
     },
     "execution_count": 7,
     "metadata": {},
     "output_type": "execute_result"
    }
   ],
   "source": [
    "# --- Explore the Options Data ---\n",
    "print(\"\\n--- Options Data ---\")\n",
    "print(\"Shape of the data (rows, columns):\", options_df.shape)\n",
    "print(\"\\nFirst 5 rows:\")\n",
    "options_df.head()"
   ]
  },
  {
   "cell_type": "code",
   "execution_count": 8,
   "id": "5452e714",
   "metadata": {
    "vscode": {
     "languageId": "plaintext"
    }
   },
   "outputs": [
    {
     "name": "stdout",
     "output_type": "stream",
     "text": [
      "Displaying options chain at 2025-06-13 09:30:00:\n"
     ]
    },
    {
     "data": {
      "text/html": [
       "<div>\n",
       "<style scoped>\n",
       "    .dataframe tbody tr th:only-of-type {\n",
       "        vertical-align: middle;\n",
       "    }\n",
       "\n",
       "    .dataframe tbody tr th {\n",
       "        vertical-align: top;\n",
       "    }\n",
       "\n",
       "    .dataframe thead th {\n",
       "        text-align: right;\n",
       "    }\n",
       "</style>\n",
       "<table border=\"1\" class=\"dataframe\">\n",
       "  <thead>\n",
       "    <tr style=\"text-align: right;\">\n",
       "      <th></th>\n",
       "      <th>underlying_price</th>\n",
       "      <th>contract_type</th>\n",
       "      <th>expiration</th>\n",
       "      <th>strike</th>\n",
       "      <th>bid</th>\n",
       "      <th>ask</th>\n",
       "      <th>delta</th>\n",
       "    </tr>\n",
       "    <tr>\n",
       "      <th>timestamp</th>\n",
       "      <th></th>\n",
       "      <th></th>\n",
       "      <th></th>\n",
       "      <th></th>\n",
       "      <th></th>\n",
       "      <th></th>\n",
       "      <th></th>\n",
       "    </tr>\n",
       "  </thead>\n",
       "  <tbody>\n",
       "    <tr>\n",
       "      <th>2025-06-13 09:30:00</th>\n",
       "      <td>5200.566429</td>\n",
       "      <td>put</td>\n",
       "      <td>2025-06-13</td>\n",
       "      <td>5180</td>\n",
       "      <td>-0.490730</td>\n",
       "      <td>-0.302921</td>\n",
       "      <td>-0.1</td>\n",
       "    </tr>\n",
       "    <tr>\n",
       "      <th>2025-06-13 09:30:00</th>\n",
       "      <td>5200.566429</td>\n",
       "      <td>put</td>\n",
       "      <td>2025-06-13</td>\n",
       "      <td>5190</td>\n",
       "      <td>0.502510</td>\n",
       "      <td>0.660611</td>\n",
       "      <td>0.0</td>\n",
       "    </tr>\n",
       "    <tr>\n",
       "      <th>2025-06-13 09:30:00</th>\n",
       "      <td>5200.566429</td>\n",
       "      <td>put</td>\n",
       "      <td>2025-06-13</td>\n",
       "      <td>5200</td>\n",
       "      <td>1.569072</td>\n",
       "      <td>1.686263</td>\n",
       "      <td>0.1</td>\n",
       "    </tr>\n",
       "    <tr>\n",
       "      <th>2025-06-13 09:30:00</th>\n",
       "      <td>5200.566429</td>\n",
       "      <td>put</td>\n",
       "      <td>2025-06-13</td>\n",
       "      <td>5210</td>\n",
       "      <td>2.500864</td>\n",
       "      <td>2.613434</td>\n",
       "      <td>0.2</td>\n",
       "    </tr>\n",
       "    <tr>\n",
       "      <th>2025-06-13 09:30:00</th>\n",
       "      <td>5200.566429</td>\n",
       "      <td>put</td>\n",
       "      <td>2025-06-13</td>\n",
       "      <td>5220</td>\n",
       "      <td>3.553447</td>\n",
       "      <td>3.686805</td>\n",
       "      <td>0.3</td>\n",
       "    </tr>\n",
       "  </tbody>\n",
       "</table>\n",
       "</div>"
      ],
      "text/plain": [
       "                     underlying_price contract_type  expiration  strike  \\\n",
       "timestamp                                                                 \n",
       "2025-06-13 09:30:00       5200.566429           put  2025-06-13    5180   \n",
       "2025-06-13 09:30:00       5200.566429           put  2025-06-13    5190   \n",
       "2025-06-13 09:30:00       5200.566429           put  2025-06-13    5200   \n",
       "2025-06-13 09:30:00       5200.566429           put  2025-06-13    5210   \n",
       "2025-06-13 09:30:00       5200.566429           put  2025-06-13    5220   \n",
       "\n",
       "                          bid       ask  delta  \n",
       "timestamp                                       \n",
       "2025-06-13 09:30:00 -0.490730 -0.302921   -0.1  \n",
       "2025-06-13 09:30:00  0.502510  0.660611    0.0  \n",
       "2025-06-13 09:30:00  1.569072  1.686263    0.1  \n",
       "2025-06-13 09:30:00  2.500864  2.613434    0.2  \n",
       "2025-06-13 09:30:00  3.553447  3.686805    0.3  "
      ]
     },
     "execution_count": 8,
     "metadata": {},
     "output_type": "execute_result"
    }
   ],
   "source": [
    "# Let's look at the options data at a specific point in time\n",
    "# For example, let's grab the first timestamp available in the options data\n",
    "sample_timestamp = options_df.index[0]\n",
    "print(f\"Displaying options chain at {sample_timestamp}:\")\n",
    "options_df.loc[sample_timestamp]"
   ]
  },
  {
   "cell_type": "code",
   "execution_count": 9,
   "id": "2e65ec16",
   "metadata": {
    "vscode": {
     "languageId": "plaintext"
    }
   },
   "outputs": [
    {
     "data": {
      "application/vnd.plotly.v1+json": {
       "config": {
        "plotlyServerURL": "https://plot.ly"
       },
       "data": [
        {
         "hovertemplate": "strike=%{x}<br>delta=%{y}<extra></extra>",
         "legendgroup": "",
         "marker": {
          "color": "#636efa",
          "symbol": "circle"
         },
         "mode": "markers",
         "name": "",
         "orientation": "v",
         "showlegend": false,
         "type": "scatter",
         "x": {
          "bdata": "PBRGFFAUWhRkFA==",
          "dtype": "i2"
         },
         "xaxis": "x",
         "y": {
          "bdata": "mpmZmZmZub8AAAAAAAAAAJqZmZmZmbk/mpmZmZmZyT80MzMzMzPTPw==",
          "dtype": "f8"
         },
         "yaxis": "y"
        }
       ],
       "layout": {
        "legend": {
         "tracegroupgap": 0
        },
        "template": {
         "data": {
          "bar": [
           {
            "error_x": {
             "color": "#2a3f5f"
            },
            "error_y": {
             "color": "#2a3f5f"
            },
            "marker": {
             "line": {
              "color": "#E5ECF6",
              "width": 0.5
             },
             "pattern": {
              "fillmode": "overlay",
              "size": 10,
              "solidity": 0.2
             }
            },
            "type": "bar"
           }
          ],
          "barpolar": [
           {
            "marker": {
             "line": {
              "color": "#E5ECF6",
              "width": 0.5
             },
             "pattern": {
              "fillmode": "overlay",
              "size": 10,
              "solidity": 0.2
             }
            },
            "type": "barpolar"
           }
          ],
          "carpet": [
           {
            "aaxis": {
             "endlinecolor": "#2a3f5f",
             "gridcolor": "white",
             "linecolor": "white",
             "minorgridcolor": "white",
             "startlinecolor": "#2a3f5f"
            },
            "baxis": {
             "endlinecolor": "#2a3f5f",
             "gridcolor": "white",
             "linecolor": "white",
             "minorgridcolor": "white",
             "startlinecolor": "#2a3f5f"
            },
            "type": "carpet"
           }
          ],
          "choropleth": [
           {
            "colorbar": {
             "outlinewidth": 0,
             "ticks": ""
            },
            "type": "choropleth"
           }
          ],
          "contour": [
           {
            "colorbar": {
             "outlinewidth": 0,
             "ticks": ""
            },
            "colorscale": [
             [
              0,
              "#0d0887"
             ],
             [
              0.1111111111111111,
              "#46039f"
             ],
             [
              0.2222222222222222,
              "#7201a8"
             ],
             [
              0.3333333333333333,
              "#9c179e"
             ],
             [
              0.4444444444444444,
              "#bd3786"
             ],
             [
              0.5555555555555556,
              "#d8576b"
             ],
             [
              0.6666666666666666,
              "#ed7953"
             ],
             [
              0.7777777777777778,
              "#fb9f3a"
             ],
             [
              0.8888888888888888,
              "#fdca26"
             ],
             [
              1,
              "#f0f921"
             ]
            ],
            "type": "contour"
           }
          ],
          "contourcarpet": [
           {
            "colorbar": {
             "outlinewidth": 0,
             "ticks": ""
            },
            "type": "contourcarpet"
           }
          ],
          "heatmap": [
           {
            "colorbar": {
             "outlinewidth": 0,
             "ticks": ""
            },
            "colorscale": [
             [
              0,
              "#0d0887"
             ],
             [
              0.1111111111111111,
              "#46039f"
             ],
             [
              0.2222222222222222,
              "#7201a8"
             ],
             [
              0.3333333333333333,
              "#9c179e"
             ],
             [
              0.4444444444444444,
              "#bd3786"
             ],
             [
              0.5555555555555556,
              "#d8576b"
             ],
             [
              0.6666666666666666,
              "#ed7953"
             ],
             [
              0.7777777777777778,
              "#fb9f3a"
             ],
             [
              0.8888888888888888,
              "#fdca26"
             ],
             [
              1,
              "#f0f921"
             ]
            ],
            "type": "heatmap"
           }
          ],
          "histogram": [
           {
            "marker": {
             "pattern": {
              "fillmode": "overlay",
              "size": 10,
              "solidity": 0.2
             }
            },
            "type": "histogram"
           }
          ],
          "histogram2d": [
           {
            "colorbar": {
             "outlinewidth": 0,
             "ticks": ""
            },
            "colorscale": [
             [
              0,
              "#0d0887"
             ],
             [
              0.1111111111111111,
              "#46039f"
             ],
             [
              0.2222222222222222,
              "#7201a8"
             ],
             [
              0.3333333333333333,
              "#9c179e"
             ],
             [
              0.4444444444444444,
              "#bd3786"
             ],
             [
              0.5555555555555556,
              "#d8576b"
             ],
             [
              0.6666666666666666,
              "#ed7953"
             ],
             [
              0.7777777777777778,
              "#fb9f3a"
             ],
             [
              0.8888888888888888,
              "#fdca26"
             ],
             [
              1,
              "#f0f921"
             ]
            ],
            "type": "histogram2d"
           }
          ],
          "histogram2dcontour": [
           {
            "colorbar": {
             "outlinewidth": 0,
             "ticks": ""
            },
            "colorscale": [
             [
              0,
              "#0d0887"
             ],
             [
              0.1111111111111111,
              "#46039f"
             ],
             [
              0.2222222222222222,
              "#7201a8"
             ],
             [
              0.3333333333333333,
              "#9c179e"
             ],
             [
              0.4444444444444444,
              "#bd3786"
             ],
             [
              0.5555555555555556,
              "#d8576b"
             ],
             [
              0.6666666666666666,
              "#ed7953"
             ],
             [
              0.7777777777777778,
              "#fb9f3a"
             ],
             [
              0.8888888888888888,
              "#fdca26"
             ],
             [
              1,
              "#f0f921"
             ]
            ],
            "type": "histogram2dcontour"
           }
          ],
          "mesh3d": [
           {
            "colorbar": {
             "outlinewidth": 0,
             "ticks": ""
            },
            "type": "mesh3d"
           }
          ],
          "parcoords": [
           {
            "line": {
             "colorbar": {
              "outlinewidth": 0,
              "ticks": ""
             }
            },
            "type": "parcoords"
           }
          ],
          "pie": [
           {
            "automargin": true,
            "type": "pie"
           }
          ],
          "scatter": [
           {
            "fillpattern": {
             "fillmode": "overlay",
             "size": 10,
             "solidity": 0.2
            },
            "type": "scatter"
           }
          ],
          "scatter3d": [
           {
            "line": {
             "colorbar": {
              "outlinewidth": 0,
              "ticks": ""
             }
            },
            "marker": {
             "colorbar": {
              "outlinewidth": 0,
              "ticks": ""
             }
            },
            "type": "scatter3d"
           }
          ],
          "scattercarpet": [
           {
            "marker": {
             "colorbar": {
              "outlinewidth": 0,
              "ticks": ""
             }
            },
            "type": "scattercarpet"
           }
          ],
          "scattergeo": [
           {
            "marker": {
             "colorbar": {
              "outlinewidth": 0,
              "ticks": ""
             }
            },
            "type": "scattergeo"
           }
          ],
          "scattergl": [
           {
            "marker": {
             "colorbar": {
              "outlinewidth": 0,
              "ticks": ""
             }
            },
            "type": "scattergl"
           }
          ],
          "scattermap": [
           {
            "marker": {
             "colorbar": {
              "outlinewidth": 0,
              "ticks": ""
             }
            },
            "type": "scattermap"
           }
          ],
          "scattermapbox": [
           {
            "marker": {
             "colorbar": {
              "outlinewidth": 0,
              "ticks": ""
             }
            },
            "type": "scattermapbox"
           }
          ],
          "scatterpolar": [
           {
            "marker": {
             "colorbar": {
              "outlinewidth": 0,
              "ticks": ""
             }
            },
            "type": "scatterpolar"
           }
          ],
          "scatterpolargl": [
           {
            "marker": {
             "colorbar": {
              "outlinewidth": 0,
              "ticks": ""
             }
            },
            "type": "scatterpolargl"
           }
          ],
          "scatterternary": [
           {
            "marker": {
             "colorbar": {
              "outlinewidth": 0,
              "ticks": ""
             }
            },
            "type": "scatterternary"
           }
          ],
          "surface": [
           {
            "colorbar": {
             "outlinewidth": 0,
             "ticks": ""
            },
            "colorscale": [
             [
              0,
              "#0d0887"
             ],
             [
              0.1111111111111111,
              "#46039f"
             ],
             [
              0.2222222222222222,
              "#7201a8"
             ],
             [
              0.3333333333333333,
              "#9c179e"
             ],
             [
              0.4444444444444444,
              "#bd3786"
             ],
             [
              0.5555555555555556,
              "#d8576b"
             ],
             [
              0.6666666666666666,
              "#ed7953"
             ],
             [
              0.7777777777777778,
              "#fb9f3a"
             ],
             [
              0.8888888888888888,
              "#fdca26"
             ],
             [
              1,
              "#f0f921"
             ]
            ],
            "type": "surface"
           }
          ],
          "table": [
           {
            "cells": {
             "fill": {
              "color": "#EBF0F8"
             },
             "line": {
              "color": "white"
             }
            },
            "header": {
             "fill": {
              "color": "#C8D4E3"
             },
             "line": {
              "color": "white"
             }
            },
            "type": "table"
           }
          ]
         },
         "layout": {
          "annotationdefaults": {
           "arrowcolor": "#2a3f5f",
           "arrowhead": 0,
           "arrowwidth": 1
          },
          "autotypenumbers": "strict",
          "coloraxis": {
           "colorbar": {
            "outlinewidth": 0,
            "ticks": ""
           }
          },
          "colorscale": {
           "diverging": [
            [
             0,
             "#8e0152"
            ],
            [
             0.1,
             "#c51b7d"
            ],
            [
             0.2,
             "#de77ae"
            ],
            [
             0.3,
             "#f1b6da"
            ],
            [
             0.4,
             "#fde0ef"
            ],
            [
             0.5,
             "#f7f7f7"
            ],
            [
             0.6,
             "#e6f5d0"
            ],
            [
             0.7,
             "#b8e186"
            ],
            [
             0.8,
             "#7fbc41"
            ],
            [
             0.9,
             "#4d9221"
            ],
            [
             1,
             "#276419"
            ]
           ],
           "sequential": [
            [
             0,
             "#0d0887"
            ],
            [
             0.1111111111111111,
             "#46039f"
            ],
            [
             0.2222222222222222,
             "#7201a8"
            ],
            [
             0.3333333333333333,
             "#9c179e"
            ],
            [
             0.4444444444444444,
             "#bd3786"
            ],
            [
             0.5555555555555556,
             "#d8576b"
            ],
            [
             0.6666666666666666,
             "#ed7953"
            ],
            [
             0.7777777777777778,
             "#fb9f3a"
            ],
            [
             0.8888888888888888,
             "#fdca26"
            ],
            [
             1,
             "#f0f921"
            ]
           ],
           "sequentialminus": [
            [
             0,
             "#0d0887"
            ],
            [
             0.1111111111111111,
             "#46039f"
            ],
            [
             0.2222222222222222,
             "#7201a8"
            ],
            [
             0.3333333333333333,
             "#9c179e"
            ],
            [
             0.4444444444444444,
             "#bd3786"
            ],
            [
             0.5555555555555556,
             "#d8576b"
            ],
            [
             0.6666666666666666,
             "#ed7953"
            ],
            [
             0.7777777777777778,
             "#fb9f3a"
            ],
            [
             0.8888888888888888,
             "#fdca26"
            ],
            [
             1,
             "#f0f921"
            ]
           ]
          },
          "colorway": [
           "#636efa",
           "#EF553B",
           "#00cc96",
           "#ab63fa",
           "#FFA15A",
           "#19d3f3",
           "#FF6692",
           "#B6E880",
           "#FF97FF",
           "#FECB52"
          ],
          "font": {
           "color": "#2a3f5f"
          },
          "geo": {
           "bgcolor": "white",
           "lakecolor": "white",
           "landcolor": "#E5ECF6",
           "showlakes": true,
           "showland": true,
           "subunitcolor": "white"
          },
          "hoverlabel": {
           "align": "left"
          },
          "hovermode": "closest",
          "mapbox": {
           "style": "light"
          },
          "paper_bgcolor": "white",
          "plot_bgcolor": "#E5ECF6",
          "polar": {
           "angularaxis": {
            "gridcolor": "white",
            "linecolor": "white",
            "ticks": ""
           },
           "bgcolor": "#E5ECF6",
           "radialaxis": {
            "gridcolor": "white",
            "linecolor": "white",
            "ticks": ""
           }
          },
          "scene": {
           "xaxis": {
            "backgroundcolor": "#E5ECF6",
            "gridcolor": "white",
            "gridwidth": 2,
            "linecolor": "white",
            "showbackground": true,
            "ticks": "",
            "zerolinecolor": "white"
           },
           "yaxis": {
            "backgroundcolor": "#E5ECF6",
            "gridcolor": "white",
            "gridwidth": 2,
            "linecolor": "white",
            "showbackground": true,
            "ticks": "",
            "zerolinecolor": "white"
           },
           "zaxis": {
            "backgroundcolor": "#E5ECF6",
            "gridcolor": "white",
            "gridwidth": 2,
            "linecolor": "white",
            "showbackground": true,
            "ticks": "",
            "zerolinecolor": "white"
           }
          },
          "shapedefaults": {
           "line": {
            "color": "#2a3f5f"
           }
          },
          "ternary": {
           "aaxis": {
            "gridcolor": "white",
            "linecolor": "white",
            "ticks": ""
           },
           "baxis": {
            "gridcolor": "white",
            "linecolor": "white",
            "ticks": ""
           },
           "bgcolor": "#E5ECF6",
           "caxis": {
            "gridcolor": "white",
            "linecolor": "white",
            "ticks": ""
           }
          },
          "title": {
           "x": 0.05
          },
          "xaxis": {
           "automargin": true,
           "gridcolor": "white",
           "linecolor": "white",
           "ticks": "",
           "title": {
            "standoff": 15
           },
           "zerolinecolor": "white",
           "zerolinewidth": 2
          },
          "yaxis": {
           "automargin": true,
           "gridcolor": "white",
           "linecolor": "white",
           "ticks": "",
           "title": {
            "standoff": 15
           },
           "zerolinecolor": "white",
           "zerolinewidth": 2
          }
         }
        },
        "title": {
         "text": "Put Delta vs. Strike Price at 2025-06-13 09:30:00"
        },
        "xaxis": {
         "anchor": "y",
         "domain": [
          0,
          1
         ],
         "title": {
          "text": "Strike Price"
         }
        },
        "yaxis": {
         "anchor": "x",
         "domain": [
          0,
          1
         ],
         "title": {
          "text": "Delta"
         }
        }
       }
      },
      "image/png": "[encoded data removed]"
     },
     "metadata": {},
     "output_type": "display_data"
    }
   ],
   "source": [
    "# Let's explore the relationship between strike price and delta\n",
    "# This is a classic options \"sanity check\"\n",
    "sample_chain = options_df.loc[sample_timestamp]\n",
    "\n",
    "fig = px.scatter(sample_chain, x='strike', y='delta', title=f'Put Delta vs. Strike Price at {sample_timestamp}')\n",
    "fig.update_layout(xaxis_title=\"Strike Price\", yaxis_title=\"Delta\")\n",
    "fig.show()\n",
    "# As expected for puts, delta approaches 0 for higher (further OTM) strikes."
   ]
  },
  {
   "cell_type": "code",
   "execution_count": null,
   "id": "4ab3b65d-1b70-4a0a-a412-572024b724db",
   "metadata": {},
   "outputs": [],
   "source": []
  }
 ],
 "metadata": {
  "kernelspec": {
   "display_name": "Python 3 (ipykernel)",
   "language": "python",
   "name": "python3"
  },
  "language_info": {
   "codemirror_mode": {
    "name": "ipython",
    "version": 3
   },
   "file_extension": ".py",
   "mimetype": "text/x-python",
   "name": "python",
   "nbconvert_exporter": "python",
   "pygments_lexer": "ipython3",
   "version": "3.11.13"
  }
 },
 "nbformat": 4,
 "nbformat_minor": 5
}
